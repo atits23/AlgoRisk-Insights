{
 "cells": [
  {
   "cell_type": "code",
   "execution_count": 305,
   "metadata": {},
   "outputs": [],
   "source": [
    "import numpy as np\n",
    "import pandas as pd\n",
    "import yfinance as yf\n",
    "import matplotlib.pyplot as plt"
   ]
  },
  {
   "cell_type": "code",
   "execution_count": 306,
   "metadata": {},
   "outputs": [
    {
     "name": "stderr",
     "output_type": "stream",
     "text": [
      "[*********************100%%**********************]  1 of 1 completed\n",
      "[*********************100%%**********************]  1 of 1 completed"
     ]
    },
    {
     "name": "stderr",
     "output_type": "stream",
     "text": [
      "\n",
      "[*********************100%%**********************]  1 of 1 completed\n",
      "[*********************100%%**********************]  1 of 1 completed\n"
     ]
    }
   ],
   "source": [
    "nifty=yf.download('^NSEI',start='2023-04-01',end='2024-03-31')\n",
    "dow=yf.download('^DJI',start='2023-04-01',end='2024-03-31')\n",
    "ftse=yf.download('^FTSE',start='2023-04-01',end='2024-03-31')\n",
    "dax=yf.download('^GDAXI',start='2023-04-01',end='2024-03-31')"
   ]
  },
  {
   "cell_type": "code",
   "execution_count": 307,
   "metadata": {},
   "outputs": [],
   "source": [
    "nifty.to_csv('nifty.csv')\n",
    "dow.to_csv('dow.csv')\n",
    "ftse.to_csv('ftse.csv')\n",
    "dax.to_csv('dax.csv')\n",
    "nifty=pd.read_csv('nifty.csv')\n",
    "dow=pd.read_csv('dow.csv')\n",
    "ftse=pd.read_csv('ftse.csv')\n",
    "dax=pd.read_csv('dax.csv')"
   ]
  },
  {
   "cell_type": "code",
   "execution_count": 308,
   "metadata": {},
   "outputs": [],
   "source": [
    "nifty['Daily_Returns']=(nifty['Close']-nifty['Open'])/nifty['Open']*100\n",
    "dow['Daily_Returns']=(dow['Close']-dow['Open'])/dow['Open']*100\n",
    "ftse['Daily_Returns']=(ftse['Close']-ftse['Open'])/ftse['Open']*100\n",
    "dax['Daily_Returns']=(dax['Close']-dax['Open'])/dax['Open']*100\n"
   ]
  },
  {
   "cell_type": "code",
   "execution_count": 309,
   "metadata": {},
   "outputs": [],
   "source": [
    "nifty['Weekday'] = pd.to_datetime(nifty['Date']).dt.weekday\n",
    "dow['Weekday'] = pd.to_datetime(dow['Date']).dt.weekday\n",
    "ftse['Weekday'] = pd.to_datetime(ftse['Date']).dt.weekday\n",
    "dax['Weekday'] = pd.to_datetime(dax['Date']).dt.weekday"
   ]
  },
  {
   "cell_type": "code",
   "execution_count": 310,
   "metadata": {},
   "outputs": [],
   "source": [
    "nifty['Monday'] = np.where(nifty['Weekday'] == 0, 1, 0)\n",
    "nifty['Friday'] = np.where(nifty['Weekday'] == 4, 1, 0)\n",
    "dow['Monday'] = np.where(dow['Weekday'] == 0, 1, 0)\n",
    "dow['Friday'] = np.where(dow['Weekday'] == 4, 1, 0)\n",
    "ftse['Monday'] = np.where(ftse['Weekday'] == 0, 1, 0)\n",
    "ftse['Friday'] = np.where(ftse['Weekday'] == 4, 1, 0)\n",
    "dax['Monday'] = np.where(dax['Weekday'] == 0, 1, 0)\n",
    "dax['Friday'] = np.where(dax['Weekday'] == 4, 1, 0)\n",
    "\n",
    "\n",
    "\n"
   ]
  },
  {
   "cell_type": "code",
   "execution_count": 311,
   "metadata": {},
   "outputs": [
    {
     "data": {
      "text/html": [
       "<div>\n",
       "<style scoped>\n",
       "    .dataframe tbody tr th:only-of-type {\n",
       "        vertical-align: middle;\n",
       "    }\n",
       "\n",
       "    .dataframe tbody tr th {\n",
       "        vertical-align: top;\n",
       "    }\n",
       "\n",
       "    .dataframe thead th {\n",
       "        text-align: right;\n",
       "    }\n",
       "</style>\n",
       "<table border=\"1\" class=\"dataframe\">\n",
       "  <thead>\n",
       "    <tr style=\"text-align: right;\">\n",
       "      <th></th>\n",
       "      <th>Date</th>\n",
       "      <th>Open</th>\n",
       "      <th>High</th>\n",
       "      <th>Low</th>\n",
       "      <th>Close</th>\n",
       "      <th>Adj Close</th>\n",
       "      <th>Volume</th>\n",
       "      <th>Daily_Returns</th>\n",
       "      <th>Weekday</th>\n",
       "      <th>Monday</th>\n",
       "      <th>Friday</th>\n",
       "    </tr>\n",
       "  </thead>\n",
       "  <tbody>\n",
       "    <tr>\n",
       "      <th>0</th>\n",
       "      <td>2023-04-03</td>\n",
       "      <td>17427.949219</td>\n",
       "      <td>17428.050781</td>\n",
       "      <td>17312.750000</td>\n",
       "      <td>17398.050781</td>\n",
       "      <td>17398.050781</td>\n",
       "      <td>230200</td>\n",
       "      <td>-0.171555</td>\n",
       "      <td>0</td>\n",
       "      <td>1</td>\n",
       "      <td>0</td>\n",
       "    </tr>\n",
       "    <tr>\n",
       "      <th>1</th>\n",
       "      <td>2023-04-05</td>\n",
       "      <td>17422.300781</td>\n",
       "      <td>17570.550781</td>\n",
       "      <td>17402.699219</td>\n",
       "      <td>17557.050781</td>\n",
       "      <td>17557.050781</td>\n",
       "      <td>248300</td>\n",
       "      <td>0.773434</td>\n",
       "      <td>2</td>\n",
       "      <td>0</td>\n",
       "      <td>0</td>\n",
       "    </tr>\n",
       "    <tr>\n",
       "      <th>2</th>\n",
       "      <td>2023-04-06</td>\n",
       "      <td>17533.849609</td>\n",
       "      <td>17638.699219</td>\n",
       "      <td>17502.849609</td>\n",
       "      <td>17599.150391</td>\n",
       "      <td>17599.150391</td>\n",
       "      <td>242700</td>\n",
       "      <td>0.372427</td>\n",
       "      <td>3</td>\n",
       "      <td>0</td>\n",
       "      <td>0</td>\n",
       "    </tr>\n",
       "    <tr>\n",
       "      <th>3</th>\n",
       "      <td>2023-04-10</td>\n",
       "      <td>17634.900391</td>\n",
       "      <td>17694.099609</td>\n",
       "      <td>17597.949219</td>\n",
       "      <td>17624.050781</td>\n",
       "      <td>17624.050781</td>\n",
       "      <td>254800</td>\n",
       "      <td>-0.061524</td>\n",
       "      <td>0</td>\n",
       "      <td>1</td>\n",
       "      <td>0</td>\n",
       "    </tr>\n",
       "    <tr>\n",
       "      <th>4</th>\n",
       "      <td>2023-04-11</td>\n",
       "      <td>17704.800781</td>\n",
       "      <td>17748.750000</td>\n",
       "      <td>17655.150391</td>\n",
       "      <td>17722.300781</td>\n",
       "      <td>17722.300781</td>\n",
       "      <td>304300</td>\n",
       "      <td>0.098843</td>\n",
       "      <td>1</td>\n",
       "      <td>0</td>\n",
       "      <td>0</td>\n",
       "    </tr>\n",
       "    <tr>\n",
       "      <th>...</th>\n",
       "      <td>...</td>\n",
       "      <td>...</td>\n",
       "      <td>...</td>\n",
       "      <td>...</td>\n",
       "      <td>...</td>\n",
       "      <td>...</td>\n",
       "      <td>...</td>\n",
       "      <td>...</td>\n",
       "      <td>...</td>\n",
       "      <td>...</td>\n",
       "      <td>...</td>\n",
       "    </tr>\n",
       "    <tr>\n",
       "      <th>238</th>\n",
       "      <td>2024-03-21</td>\n",
       "      <td>21989.900391</td>\n",
       "      <td>22080.949219</td>\n",
       "      <td>21941.300781</td>\n",
       "      <td>22011.949219</td>\n",
       "      <td>22011.949219</td>\n",
       "      <td>353200</td>\n",
       "      <td>0.100268</td>\n",
       "      <td>3</td>\n",
       "      <td>0</td>\n",
       "      <td>0</td>\n",
       "    </tr>\n",
       "    <tr>\n",
       "      <th>239</th>\n",
       "      <td>2024-03-22</td>\n",
       "      <td>21932.199219</td>\n",
       "      <td>22180.699219</td>\n",
       "      <td>21883.300781</td>\n",
       "      <td>22096.750000</td>\n",
       "      <td>22096.750000</td>\n",
       "      <td>388700</td>\n",
       "      <td>0.750270</td>\n",
       "      <td>4</td>\n",
       "      <td>0</td>\n",
       "      <td>1</td>\n",
       "    </tr>\n",
       "    <tr>\n",
       "      <th>240</th>\n",
       "      <td>2024-03-26</td>\n",
       "      <td>21947.900391</td>\n",
       "      <td>22073.199219</td>\n",
       "      <td>21947.550781</td>\n",
       "      <td>22004.699219</td>\n",
       "      <td>22004.699219</td>\n",
       "      <td>328400</td>\n",
       "      <td>0.258789</td>\n",
       "      <td>1</td>\n",
       "      <td>0</td>\n",
       "      <td>0</td>\n",
       "    </tr>\n",
       "    <tr>\n",
       "      <th>241</th>\n",
       "      <td>2024-03-27</td>\n",
       "      <td>22053.949219</td>\n",
       "      <td>22193.599609</td>\n",
       "      <td>22052.849609</td>\n",
       "      <td>22123.650391</td>\n",
       "      <td>22123.650391</td>\n",
       "      <td>409100</td>\n",
       "      <td>0.316048</td>\n",
       "      <td>2</td>\n",
       "      <td>0</td>\n",
       "      <td>0</td>\n",
       "    </tr>\n",
       "    <tr>\n",
       "      <th>242</th>\n",
       "      <td>2024-03-28</td>\n",
       "      <td>22163.599609</td>\n",
       "      <td>22516.000000</td>\n",
       "      <td>22163.599609</td>\n",
       "      <td>22326.900391</td>\n",
       "      <td>22326.900391</td>\n",
       "      <td>410500</td>\n",
       "      <td>0.736797</td>\n",
       "      <td>3</td>\n",
       "      <td>0</td>\n",
       "      <td>0</td>\n",
       "    </tr>\n",
       "  </tbody>\n",
       "</table>\n",
       "<p>243 rows × 11 columns</p>\n",
       "</div>"
      ],
      "text/plain": [
       "           Date          Open          High           Low         Close  \\\n",
       "0    2023-04-03  17427.949219  17428.050781  17312.750000  17398.050781   \n",
       "1    2023-04-05  17422.300781  17570.550781  17402.699219  17557.050781   \n",
       "2    2023-04-06  17533.849609  17638.699219  17502.849609  17599.150391   \n",
       "3    2023-04-10  17634.900391  17694.099609  17597.949219  17624.050781   \n",
       "4    2023-04-11  17704.800781  17748.750000  17655.150391  17722.300781   \n",
       "..          ...           ...           ...           ...           ...   \n",
       "238  2024-03-21  21989.900391  22080.949219  21941.300781  22011.949219   \n",
       "239  2024-03-22  21932.199219  22180.699219  21883.300781  22096.750000   \n",
       "240  2024-03-26  21947.900391  22073.199219  21947.550781  22004.699219   \n",
       "241  2024-03-27  22053.949219  22193.599609  22052.849609  22123.650391   \n",
       "242  2024-03-28  22163.599609  22516.000000  22163.599609  22326.900391   \n",
       "\n",
       "        Adj Close  Volume  Daily_Returns  Weekday  Monday  Friday  \n",
       "0    17398.050781  230200      -0.171555        0       1       0  \n",
       "1    17557.050781  248300       0.773434        2       0       0  \n",
       "2    17599.150391  242700       0.372427        3       0       0  \n",
       "3    17624.050781  254800      -0.061524        0       1       0  \n",
       "4    17722.300781  304300       0.098843        1       0       0  \n",
       "..            ...     ...            ...      ...     ...     ...  \n",
       "238  22011.949219  353200       0.100268        3       0       0  \n",
       "239  22096.750000  388700       0.750270        4       0       1  \n",
       "240  22004.699219  328400       0.258789        1       0       0  \n",
       "241  22123.650391  409100       0.316048        2       0       0  \n",
       "242  22326.900391  410500       0.736797        3       0       0  \n",
       "\n",
       "[243 rows x 11 columns]"
      ]
     },
     "execution_count": 311,
     "metadata": {},
     "output_type": "execute_result"
    }
   ],
   "source": [
    "nifty"
   ]
  },
  {
   "cell_type": "code",
   "execution_count": 312,
   "metadata": {},
   "outputs": [],
   "source": [
    "monday_nifty = 0\n",
    "friday_nifty= 0\n",
    "other__nifty = 0\n",
    "mon_nifty=0\n",
    "fri_nifty=0\n",
    "other_nifty=0\n",
    "for i in range(len(nifty)):\n",
    "    if(nifty['Monday'].iloc[i]==1):\n",
    "        monday_nifty+=nifty['Daily_Returns'].iloc[i]\n",
    "        mon_nifty+=1\n",
    "    elif(nifty['Friday'].iloc[i]==1):\n",
    "        friday_nifty+=nifty['Daily_Returns'].iloc[i]\n",
    "        fri_nifty+=1\n",
    "    else:\n",
    "        other__nifty+=nifty['Daily_Returns'].iloc[i]\n",
    "        other_nifty+=1"
   ]
  },
  {
   "cell_type": "code",
   "execution_count": 313,
   "metadata": {},
   "outputs": [],
   "source": [
    "monday_return_nifty=monday_nifty/mon_nifty\n",
    "friday_return_nifty=friday_nifty/fri_nifty\n",
    "other_return_nifty=other__nifty/other_nifty"
   ]
  },
  {
   "cell_type": "code",
   "execution_count": 314,
   "metadata": {},
   "outputs": [
    {
     "data": {
      "text/plain": [
       "-0.07035096568532934"
      ]
     },
     "execution_count": 314,
     "metadata": {},
     "output_type": "execute_result"
    }
   ],
   "source": [
    "other_return_nifty"
   ]
  },
  {
   "cell_type": "code",
   "execution_count": 315,
   "metadata": {},
   "outputs": [],
   "source": [
    "monday_dow = 0\n",
    "friday_dow= 0\n",
    "other__dow = 0\n",
    "mon_dow=0\n",
    "fri_dow=0\n",
    "other_dow=0\n",
    "for i in range(len(dow)):\n",
    "    if(dow['Monday'].iloc[i]==1):\n",
    "        monday_dow+=dow['Daily_Returns'].iloc[i]\n",
    "        mon_dow+=1\n",
    "    elif(dow['Friday'].iloc[i]==1):\n",
    "        friday_dow+=dow['Daily_Returns'].iloc[i]\n",
    "        fri_dow+=1\n",
    "    else:\n",
    "        other__dow+=dow['Daily_Returns'].iloc[i]\n",
    "        other_dow+=1"
   ]
  },
  {
   "cell_type": "code",
   "execution_count": 316,
   "metadata": {},
   "outputs": [],
   "source": [
    "monday_return_dow=monday_dow/mon_dow\n",
    "friday_return_dow=friday_dow/fri_dow\n",
    "other_return_dow=other__dow/other_dow"
   ]
  },
  {
   "cell_type": "code",
   "execution_count": 317,
   "metadata": {},
   "outputs": [],
   "source": [
    "monday_ftse = 0\n",
    "friday_ftse= 0\n",
    "other__ftse = 0\n",
    "mon_ftse=0\n",
    "fri_ftse=0\n",
    "other_ftse=0\n",
    "for i in range(len(ftse)):\n",
    "    if(ftse['Monday'].iloc[i]==1):\n",
    "        monday_ftse+=ftse['Daily_Returns'].iloc[i]\n",
    "        mon_ftse+=1\n",
    "    elif(ftse['Friday'].iloc[i]==1):\n",
    "        friday_ftse+=ftse['Daily_Returns'].iloc[i]\n",
    "        fri_ftse+=1\n",
    "    else:\n",
    "        other__ftse+=ftse['Daily_Returns'].iloc[i]\n",
    "        other_ftse+=1"
   ]
  },
  {
   "cell_type": "code",
   "execution_count": 318,
   "metadata": {},
   "outputs": [],
   "source": [
    "monday_return_ftse=monday_ftse/mon_ftse\n",
    "friday_return_ftse=friday_ftse/fri_ftse\n",
    "other_return_ftse=other__ftse/other_ftse"
   ]
  },
  {
   "cell_type": "code",
   "execution_count": 319,
   "metadata": {},
   "outputs": [],
   "source": [
    "monday_dax = 0\n",
    "friday_dax= 0\n",
    "other__dax = 0\n",
    "mon_dax=0\n",
    "fri_dax=0\n",
    "other_dax=0\n",
    "for i in range(len(dax)):\n",
    "    if(dax['Monday'].iloc[i]==1):\n",
    "        monday_dax+=dax['Daily_Returns'].iloc[i]\n",
    "        mon_dax+=1\n",
    "    elif(dax['Friday'].iloc[i]==1):\n",
    "        friday_dax+=dax['Daily_Returns'].iloc[i]\n",
    "        fri_dax+=1\n",
    "    else:\n",
    "        other__dax+=dax['Daily_Returns'].iloc[i]\n",
    "        other_dax+=1"
   ]
  },
  {
   "cell_type": "code",
   "execution_count": 320,
   "metadata": {},
   "outputs": [],
   "source": [
    "monday_return_dax=monday_dax/mon_dax\n",
    "friday_return_dax=friday_dax/fri_dax\n",
    "other_return_dax=other__dax/other_dax"
   ]
  },
  {
   "cell_type": "code",
   "execution_count": 321,
   "metadata": {},
   "outputs": [],
   "source": [
    "df={'nifty':[0, 0, 0],'dow':[0, 0, 0],'ftse':[0,0,0],'dax':[0, 0, 0]}\n",
    "index = ['Monday_Return', 'Friday_Return', 'Other_day_Return']\n",
    "df=pd.DataFrame(df,index=index)\n"
   ]
  },
  {
   "cell_type": "code",
   "execution_count": 322,
   "metadata": {},
   "outputs": [
    {
     "data": {
      "text/html": [
       "<div>\n",
       "<style scoped>\n",
       "    .dataframe tbody tr th:only-of-type {\n",
       "        vertical-align: middle;\n",
       "    }\n",
       "\n",
       "    .dataframe tbody tr th {\n",
       "        vertical-align: top;\n",
       "    }\n",
       "\n",
       "    .dataframe thead th {\n",
       "        text-align: right;\n",
       "    }\n",
       "</style>\n",
       "<table border=\"1\" class=\"dataframe\">\n",
       "  <thead>\n",
       "    <tr style=\"text-align: right;\">\n",
       "      <th></th>\n",
       "      <th>nifty</th>\n",
       "      <th>dow</th>\n",
       "      <th>ftse</th>\n",
       "      <th>dax</th>\n",
       "    </tr>\n",
       "  </thead>\n",
       "  <tbody>\n",
       "    <tr>\n",
       "      <th>Monday_Return</th>\n",
       "      <td>0</td>\n",
       "      <td>0</td>\n",
       "      <td>0</td>\n",
       "      <td>0</td>\n",
       "    </tr>\n",
       "    <tr>\n",
       "      <th>Friday_Return</th>\n",
       "      <td>0</td>\n",
       "      <td>0</td>\n",
       "      <td>0</td>\n",
       "      <td>0</td>\n",
       "    </tr>\n",
       "    <tr>\n",
       "      <th>Other_day_Return</th>\n",
       "      <td>0</td>\n",
       "      <td>0</td>\n",
       "      <td>0</td>\n",
       "      <td>0</td>\n",
       "    </tr>\n",
       "  </tbody>\n",
       "</table>\n",
       "</div>"
      ],
      "text/plain": [
       "                  nifty  dow  ftse  dax\n",
       "Monday_Return         0    0     0    0\n",
       "Friday_Return         0    0     0    0\n",
       "Other_day_Return      0    0     0    0"
      ]
     },
     "execution_count": 322,
     "metadata": {},
     "output_type": "execute_result"
    }
   ],
   "source": [
    "df"
   ]
  },
  {
   "cell_type": "code",
   "execution_count": 323,
   "metadata": {},
   "outputs": [
    {
     "name": "stderr",
     "output_type": "stream",
     "text": [
      "C:\\Users\\atitk\\AppData\\Local\\Temp\\ipykernel_35856\\2616448451.py:1: FutureWarning: Setting an item of incompatible dtype is deprecated and will raise an error in a future version of pandas. Value '-0.0011978976124934892' has dtype incompatible with int64, please explicitly cast to a compatible dtype first.\n",
      "  df.loc['Monday_Return', 'nifty'] = monday_return_nifty\n",
      "C:\\Users\\atitk\\AppData\\Local\\Temp\\ipykernel_35856\\2616448451.py:2: FutureWarning: Setting an item of incompatible dtype is deprecated and will raise an error in a future version of pandas. Value '0.2171006246949042' has dtype incompatible with int64, please explicitly cast to a compatible dtype first.\n",
      "  df.loc['Monday_Return', 'dow'] = monday_return_dow\n",
      "C:\\Users\\atitk\\AppData\\Local\\Temp\\ipykernel_35856\\2616448451.py:3: FutureWarning: Setting an item of incompatible dtype is deprecated and will raise an error in a future version of pandas. Value '-0.05526199857413109' has dtype incompatible with int64, please explicitly cast to a compatible dtype first.\n",
      "  df.loc['Monday_Return','ftse']=monday_return_ftse\n",
      "C:\\Users\\atitk\\AppData\\Local\\Temp\\ipykernel_35856\\2616448451.py:4: FutureWarning: Setting an item of incompatible dtype is deprecated and will raise an error in a future version of pandas. Value '-0.0827272079705068' has dtype incompatible with int64, please explicitly cast to a compatible dtype first.\n",
      "  df.loc['Monday_Return', 'dax'] = monday_return_dax\n"
     ]
    }
   ],
   "source": [
    "df.loc['Monday_Return', 'nifty'] = monday_return_nifty\n",
    "df.loc['Monday_Return', 'dow'] = monday_return_dow\n",
    "df.loc['Monday_Return','ftse']=monday_return_ftse\n",
    "df.loc['Monday_Return', 'dax'] = monday_return_dax\n"
   ]
  },
  {
   "cell_type": "code",
   "execution_count": 324,
   "metadata": {},
   "outputs": [],
   "source": [
    "df.loc['Friday_Return', 'nifty'] = friday_return_nifty\n",
    "df.loc['Friday_Return', 'dow'] = friday_return_dow\n",
    "df.loc['Friday_Return','ftse']=friday_return_ftse\n",
    "df.loc['Friday_Return', 'dax'] = friday_return_dax"
   ]
  },
  {
   "cell_type": "code",
   "execution_count": 325,
   "metadata": {},
   "outputs": [
    {
     "data": {
      "text/html": [
       "<div>\n",
       "<style scoped>\n",
       "    .dataframe tbody tr th:only-of-type {\n",
       "        vertical-align: middle;\n",
       "    }\n",
       "\n",
       "    .dataframe tbody tr th {\n",
       "        vertical-align: top;\n",
       "    }\n",
       "\n",
       "    .dataframe thead th {\n",
       "        text-align: right;\n",
       "    }\n",
       "</style>\n",
       "<table border=\"1\" class=\"dataframe\">\n",
       "  <thead>\n",
       "    <tr style=\"text-align: right;\">\n",
       "      <th></th>\n",
       "      <th>nifty</th>\n",
       "      <th>dow</th>\n",
       "      <th>ftse</th>\n",
       "      <th>dax</th>\n",
       "    </tr>\n",
       "  </thead>\n",
       "  <tbody>\n",
       "    <tr>\n",
       "      <th>Monday_Return</th>\n",
       "      <td>-0.001198</td>\n",
       "      <td>0.217101</td>\n",
       "      <td>-0.055262</td>\n",
       "      <td>-0.082727</td>\n",
       "    </tr>\n",
       "    <tr>\n",
       "      <th>Friday_Return</th>\n",
       "      <td>0.166746</td>\n",
       "      <td>0.075993</td>\n",
       "      <td>0.134184</td>\n",
       "      <td>0.102242</td>\n",
       "    </tr>\n",
       "    <tr>\n",
       "      <th>Other_day_Return</th>\n",
       "      <td>0.000000</td>\n",
       "      <td>0.000000</td>\n",
       "      <td>0.000000</td>\n",
       "      <td>0.000000</td>\n",
       "    </tr>\n",
       "  </tbody>\n",
       "</table>\n",
       "</div>"
      ],
      "text/plain": [
       "                     nifty       dow      ftse       dax\n",
       "Monday_Return    -0.001198  0.217101 -0.055262 -0.082727\n",
       "Friday_Return     0.166746  0.075993  0.134184  0.102242\n",
       "Other_day_Return  0.000000  0.000000  0.000000  0.000000"
      ]
     },
     "execution_count": 325,
     "metadata": {},
     "output_type": "execute_result"
    }
   ],
   "source": [
    "df"
   ]
  },
  {
   "cell_type": "code",
   "execution_count": 326,
   "metadata": {},
   "outputs": [],
   "source": [
    "df.loc['Other_day_Return', 'nifty'] = other_return_nifty\n",
    "df.loc['Other_day_Return', 'dow'] = other_return_dow\n",
    "df.loc['Other_day_Return','ftse']=other_return_ftse\n",
    "df.loc['Other_day_Return', 'dax'] = other_return_dax"
   ]
  },
  {
   "cell_type": "code",
   "execution_count": 327,
   "metadata": {},
   "outputs": [
    {
     "data": {
      "text/html": [
       "<div>\n",
       "<style scoped>\n",
       "    .dataframe tbody tr th:only-of-type {\n",
       "        vertical-align: middle;\n",
       "    }\n",
       "\n",
       "    .dataframe tbody tr th {\n",
       "        vertical-align: top;\n",
       "    }\n",
       "\n",
       "    .dataframe thead th {\n",
       "        text-align: right;\n",
       "    }\n",
       "</style>\n",
       "<table border=\"1\" class=\"dataframe\">\n",
       "  <thead>\n",
       "    <tr style=\"text-align: right;\">\n",
       "      <th></th>\n",
       "      <th>nifty</th>\n",
       "      <th>dow</th>\n",
       "      <th>ftse</th>\n",
       "      <th>dax</th>\n",
       "    </tr>\n",
       "  </thead>\n",
       "  <tbody>\n",
       "    <tr>\n",
       "      <th>Monday_Return</th>\n",
       "      <td>-0.001198</td>\n",
       "      <td>0.217101</td>\n",
       "      <td>-0.055262</td>\n",
       "      <td>-0.082727</td>\n",
       "    </tr>\n",
       "    <tr>\n",
       "      <th>Friday_Return</th>\n",
       "      <td>0.166746</td>\n",
       "      <td>0.075993</td>\n",
       "      <td>0.134184</td>\n",
       "      <td>0.102242</td>\n",
       "    </tr>\n",
       "    <tr>\n",
       "      <th>Other_day_Return</th>\n",
       "      <td>-0.070351</td>\n",
       "      <td>0.003926</td>\n",
       "      <td>0.002687</td>\n",
       "      <td>0.064060</td>\n",
       "    </tr>\n",
       "  </tbody>\n",
       "</table>\n",
       "</div>"
      ],
      "text/plain": [
       "                     nifty       dow      ftse       dax\n",
       "Monday_Return    -0.001198  0.217101 -0.055262 -0.082727\n",
       "Friday_Return     0.166746  0.075993  0.134184  0.102242\n",
       "Other_day_Return -0.070351  0.003926  0.002687  0.064060"
      ]
     },
     "execution_count": 327,
     "metadata": {},
     "output_type": "execute_result"
    }
   ],
   "source": [
    "df"
   ]
  },
  {
   "cell_type": "markdown",
   "metadata": {},
   "source": [
    "#\n",
    "Conclusion"
   ]
  },
  {
   "cell_type": "markdown",
   "metadata": {},
   "source": [
    "We can clearly see that weekend effect is visible in nifty,ftse and dax while there is a reverse weekend effect observed in dow"
   ]
  },
  {
   "cell_type": "markdown",
   "metadata": {},
   "source": []
  }
 ],
 "metadata": {
  "kernelspec": {
   "display_name": "Python 3",
   "language": "python",
   "name": "python3"
  },
  "language_info": {
   "codemirror_mode": {
    "name": "ipython",
    "version": 3
   },
   "file_extension": ".py",
   "mimetype": "text/x-python",
   "name": "python",
   "nbconvert_exporter": "python",
   "pygments_lexer": "ipython3",
   "version": "3.11.9"
  }
 },
 "nbformat": 4,
 "nbformat_minor": 2
}
