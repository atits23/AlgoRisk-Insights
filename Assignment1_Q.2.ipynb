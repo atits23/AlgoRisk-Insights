{
 "cells": [
  {
   "cell_type": "markdown",
   "metadata": {},
   "source": [
    "Q.2."
   ]
  },
  {
   "cell_type": "markdown",
   "metadata": {},
   "source": [
    "#\n",
    "a)"
   ]
  },
  {
   "cell_type": "markdown",
   "metadata": {},
   "source": [
    "*I would suggest uncorrelated stocks to go into the portfolio beacause this will reduce the overall risk of portfolio if one of the stock is not performing well other stock will compensate the loss and which may balance overall return*"
   ]
  },
  {
   "cell_type": "markdown",
   "metadata": {},
   "source": [
    "#\n",
    "Q.(b)"
   ]
  },
  {
   "cell_type": "code",
   "execution_count": 177,
   "metadata": {},
   "outputs": [],
   "source": [
    "import numpy as np\n",
    "import pandas as pd\n",
    "import yfinance as yf"
   ]
  },
  {
   "cell_type": "code",
   "execution_count": 178,
   "metadata": {},
   "outputs": [
    {
     "name": "stderr",
     "output_type": "stream",
     "text": [
      "[*********************100%%**********************]  1 of 1 completed\n"
     ]
    }
   ],
   "source": [
    "tcs=yf.download('TCS.NS',start='2023-04-01',end='2024-03-31')"
   ]
  },
  {
   "cell_type": "code",
   "execution_count": 179,
   "metadata": {},
   "outputs": [
    {
     "name": "stderr",
     "output_type": "stream",
     "text": [
      "[*********************100%%**********************]  1 of 1 completed\n"
     ]
    }
   ],
   "source": [
    "cipla=yf.download('CIPLA.NS',start='2023-04-01',end='2024-03-31')"
   ]
  },
  {
   "cell_type": "code",
   "execution_count": 180,
   "metadata": {},
   "outputs": [],
   "source": [
    "tcs.to_csv(\"tcs.csv\")"
   ]
  },
  {
   "cell_type": "code",
   "execution_count": 181,
   "metadata": {},
   "outputs": [],
   "source": [
    "tcs=pd.read_csv(\"tcs.csv\")"
   ]
  },
  {
   "cell_type": "code",
   "execution_count": 182,
   "metadata": {},
   "outputs": [
    {
     "data": {
      "text/html": [
       "<div>\n",
       "<style scoped>\n",
       "    .dataframe tbody tr th:only-of-type {\n",
       "        vertical-align: middle;\n",
       "    }\n",
       "\n",
       "    .dataframe tbody tr th {\n",
       "        vertical-align: top;\n",
       "    }\n",
       "\n",
       "    .dataframe thead th {\n",
       "        text-align: right;\n",
       "    }\n",
       "</style>\n",
       "<table border=\"1\" class=\"dataframe\">\n",
       "  <thead>\n",
       "    <tr style=\"text-align: right;\">\n",
       "      <th></th>\n",
       "      <th>Date</th>\n",
       "      <th>Open</th>\n",
       "      <th>High</th>\n",
       "      <th>Low</th>\n",
       "      <th>Close</th>\n",
       "      <th>Adj Close</th>\n",
       "      <th>Volume</th>\n",
       "    </tr>\n",
       "  </thead>\n",
       "  <tbody>\n",
       "    <tr>\n",
       "      <th>0</th>\n",
       "      <td>2023-04-03</td>\n",
       "      <td>3224.949951</td>\n",
       "      <td>3224.949951</td>\n",
       "      <td>3173.750000</td>\n",
       "      <td>3200.000000</td>\n",
       "      <td>3145.387451</td>\n",
       "      <td>1521830</td>\n",
       "    </tr>\n",
       "    <tr>\n",
       "      <th>1</th>\n",
       "      <td>2023-04-05</td>\n",
       "      <td>3185.500000</td>\n",
       "      <td>3264.350098</td>\n",
       "      <td>3185.500000</td>\n",
       "      <td>3239.800049</td>\n",
       "      <td>3184.508057</td>\n",
       "      <td>2655065</td>\n",
       "    </tr>\n",
       "    <tr>\n",
       "      <th>2</th>\n",
       "      <td>2023-04-06</td>\n",
       "      <td>3225.000000</td>\n",
       "      <td>3257.350098</td>\n",
       "      <td>3215.000000</td>\n",
       "      <td>3220.699951</td>\n",
       "      <td>3165.734131</td>\n",
       "      <td>1703464</td>\n",
       "    </tr>\n",
       "    <tr>\n",
       "      <th>3</th>\n",
       "      <td>2023-04-10</td>\n",
       "      <td>3220.000000</td>\n",
       "      <td>3272.000000</td>\n",
       "      <td>3215.000000</td>\n",
       "      <td>3263.399902</td>\n",
       "      <td>3207.705322</td>\n",
       "      <td>2203187</td>\n",
       "    </tr>\n",
       "    <tr>\n",
       "      <th>4</th>\n",
       "      <td>2023-04-11</td>\n",
       "      <td>3264.000000</td>\n",
       "      <td>3272.949951</td>\n",
       "      <td>3192.149902</td>\n",
       "      <td>3213.800049</td>\n",
       "      <td>3158.951904</td>\n",
       "      <td>2348779</td>\n",
       "    </tr>\n",
       "    <tr>\n",
       "      <th>...</th>\n",
       "      <td>...</td>\n",
       "      <td>...</td>\n",
       "      <td>...</td>\n",
       "      <td>...</td>\n",
       "      <td>...</td>\n",
       "      <td>...</td>\n",
       "      <td>...</td>\n",
       "    </tr>\n",
       "    <tr>\n",
       "      <th>238</th>\n",
       "      <td>2024-03-21</td>\n",
       "      <td>3990.050049</td>\n",
       "      <td>4008.399902</td>\n",
       "      <td>3948.000000</td>\n",
       "      <td>3972.949951</td>\n",
       "      <td>3972.949951</td>\n",
       "      <td>3829582</td>\n",
       "    </tr>\n",
       "    <tr>\n",
       "      <th>239</th>\n",
       "      <td>2024-03-22</td>\n",
       "      <td>3897.000000</td>\n",
       "      <td>3938.000000</td>\n",
       "      <td>3855.000000</td>\n",
       "      <td>3910.899902</td>\n",
       "      <td>3910.899902</td>\n",
       "      <td>5852485</td>\n",
       "    </tr>\n",
       "    <tr>\n",
       "      <th>240</th>\n",
       "      <td>2024-03-26</td>\n",
       "      <td>3875.000000</td>\n",
       "      <td>3946.699951</td>\n",
       "      <td>3871.449951</td>\n",
       "      <td>3877.500000</td>\n",
       "      <td>3877.500000</td>\n",
       "      <td>3440925</td>\n",
       "    </tr>\n",
       "    <tr>\n",
       "      <th>241</th>\n",
       "      <td>2024-03-27</td>\n",
       "      <td>3888.500000</td>\n",
       "      <td>3895.000000</td>\n",
       "      <td>3829.399902</td>\n",
       "      <td>3840.899902</td>\n",
       "      <td>3840.899902</td>\n",
       "      <td>1968575</td>\n",
       "    </tr>\n",
       "    <tr>\n",
       "      <th>242</th>\n",
       "      <td>2024-03-28</td>\n",
       "      <td>3850.100098</td>\n",
       "      <td>3915.000000</td>\n",
       "      <td>3840.500000</td>\n",
       "      <td>3876.300049</td>\n",
       "      <td>3876.300049</td>\n",
       "      <td>4311783</td>\n",
       "    </tr>\n",
       "  </tbody>\n",
       "</table>\n",
       "<p>243 rows × 7 columns</p>\n",
       "</div>"
      ],
      "text/plain": [
       "           Date         Open         High          Low        Close  \\\n",
       "0    2023-04-03  3224.949951  3224.949951  3173.750000  3200.000000   \n",
       "1    2023-04-05  3185.500000  3264.350098  3185.500000  3239.800049   \n",
       "2    2023-04-06  3225.000000  3257.350098  3215.000000  3220.699951   \n",
       "3    2023-04-10  3220.000000  3272.000000  3215.000000  3263.399902   \n",
       "4    2023-04-11  3264.000000  3272.949951  3192.149902  3213.800049   \n",
       "..          ...          ...          ...          ...          ...   \n",
       "238  2024-03-21  3990.050049  4008.399902  3948.000000  3972.949951   \n",
       "239  2024-03-22  3897.000000  3938.000000  3855.000000  3910.899902   \n",
       "240  2024-03-26  3875.000000  3946.699951  3871.449951  3877.500000   \n",
       "241  2024-03-27  3888.500000  3895.000000  3829.399902  3840.899902   \n",
       "242  2024-03-28  3850.100098  3915.000000  3840.500000  3876.300049   \n",
       "\n",
       "       Adj Close   Volume  \n",
       "0    3145.387451  1521830  \n",
       "1    3184.508057  2655065  \n",
       "2    3165.734131  1703464  \n",
       "3    3207.705322  2203187  \n",
       "4    3158.951904  2348779  \n",
       "..           ...      ...  \n",
       "238  3972.949951  3829582  \n",
       "239  3910.899902  5852485  \n",
       "240  3877.500000  3440925  \n",
       "241  3840.899902  1968575  \n",
       "242  3876.300049  4311783  \n",
       "\n",
       "[243 rows x 7 columns]"
      ]
     },
     "execution_count": 182,
     "metadata": {},
     "output_type": "execute_result"
    }
   ],
   "source": [
    "tcs"
   ]
  },
  {
   "cell_type": "code",
   "execution_count": 183,
   "metadata": {},
   "outputs": [],
   "source": [
    "tcs['Daily_Returns']=(tcs['Close']-tcs['Open'])/tcs['Open']*100"
   ]
  },
  {
   "cell_type": "code",
   "execution_count": 184,
   "metadata": {},
   "outputs": [
    {
     "data": {
      "text/html": [
       "<div>\n",
       "<style scoped>\n",
       "    .dataframe tbody tr th:only-of-type {\n",
       "        vertical-align: middle;\n",
       "    }\n",
       "\n",
       "    .dataframe tbody tr th {\n",
       "        vertical-align: top;\n",
       "    }\n",
       "\n",
       "    .dataframe thead th {\n",
       "        text-align: right;\n",
       "    }\n",
       "</style>\n",
       "<table border=\"1\" class=\"dataframe\">\n",
       "  <thead>\n",
       "    <tr style=\"text-align: right;\">\n",
       "      <th></th>\n",
       "      <th>Date</th>\n",
       "      <th>Open</th>\n",
       "      <th>High</th>\n",
       "      <th>Low</th>\n",
       "      <th>Close</th>\n",
       "      <th>Adj Close</th>\n",
       "      <th>Volume</th>\n",
       "      <th>Daily_Returns</th>\n",
       "    </tr>\n",
       "  </thead>\n",
       "  <tbody>\n",
       "    <tr>\n",
       "      <th>0</th>\n",
       "      <td>2023-04-03</td>\n",
       "      <td>3224.949951</td>\n",
       "      <td>3224.949951</td>\n",
       "      <td>3173.750000</td>\n",
       "      <td>3200.000000</td>\n",
       "      <td>3145.387451</td>\n",
       "      <td>1521830</td>\n",
       "      <td>-0.773654</td>\n",
       "    </tr>\n",
       "    <tr>\n",
       "      <th>1</th>\n",
       "      <td>2023-04-05</td>\n",
       "      <td>3185.500000</td>\n",
       "      <td>3264.350098</td>\n",
       "      <td>3185.500000</td>\n",
       "      <td>3239.800049</td>\n",
       "      <td>3184.508057</td>\n",
       "      <td>2655065</td>\n",
       "      <td>1.704600</td>\n",
       "    </tr>\n",
       "    <tr>\n",
       "      <th>2</th>\n",
       "      <td>2023-04-06</td>\n",
       "      <td>3225.000000</td>\n",
       "      <td>3257.350098</td>\n",
       "      <td>3215.000000</td>\n",
       "      <td>3220.699951</td>\n",
       "      <td>3165.734131</td>\n",
       "      <td>1703464</td>\n",
       "      <td>-0.133335</td>\n",
       "    </tr>\n",
       "    <tr>\n",
       "      <th>3</th>\n",
       "      <td>2023-04-10</td>\n",
       "      <td>3220.000000</td>\n",
       "      <td>3272.000000</td>\n",
       "      <td>3215.000000</td>\n",
       "      <td>3263.399902</td>\n",
       "      <td>3207.705322</td>\n",
       "      <td>2203187</td>\n",
       "      <td>1.347823</td>\n",
       "    </tr>\n",
       "    <tr>\n",
       "      <th>4</th>\n",
       "      <td>2023-04-11</td>\n",
       "      <td>3264.000000</td>\n",
       "      <td>3272.949951</td>\n",
       "      <td>3192.149902</td>\n",
       "      <td>3213.800049</td>\n",
       "      <td>3158.951904</td>\n",
       "      <td>2348779</td>\n",
       "      <td>-1.537989</td>\n",
       "    </tr>\n",
       "    <tr>\n",
       "      <th>...</th>\n",
       "      <td>...</td>\n",
       "      <td>...</td>\n",
       "      <td>...</td>\n",
       "      <td>...</td>\n",
       "      <td>...</td>\n",
       "      <td>...</td>\n",
       "      <td>...</td>\n",
       "      <td>...</td>\n",
       "    </tr>\n",
       "    <tr>\n",
       "      <th>238</th>\n",
       "      <td>2024-03-21</td>\n",
       "      <td>3990.050049</td>\n",
       "      <td>4008.399902</td>\n",
       "      <td>3948.000000</td>\n",
       "      <td>3972.949951</td>\n",
       "      <td>3972.949951</td>\n",
       "      <td>3829582</td>\n",
       "      <td>-0.428569</td>\n",
       "    </tr>\n",
       "    <tr>\n",
       "      <th>239</th>\n",
       "      <td>2024-03-22</td>\n",
       "      <td>3897.000000</td>\n",
       "      <td>3938.000000</td>\n",
       "      <td>3855.000000</td>\n",
       "      <td>3910.899902</td>\n",
       "      <td>3910.899902</td>\n",
       "      <td>5852485</td>\n",
       "      <td>0.356682</td>\n",
       "    </tr>\n",
       "    <tr>\n",
       "      <th>240</th>\n",
       "      <td>2024-03-26</td>\n",
       "      <td>3875.000000</td>\n",
       "      <td>3946.699951</td>\n",
       "      <td>3871.449951</td>\n",
       "      <td>3877.500000</td>\n",
       "      <td>3877.500000</td>\n",
       "      <td>3440925</td>\n",
       "      <td>0.064516</td>\n",
       "    </tr>\n",
       "    <tr>\n",
       "      <th>241</th>\n",
       "      <td>2024-03-27</td>\n",
       "      <td>3888.500000</td>\n",
       "      <td>3895.000000</td>\n",
       "      <td>3829.399902</td>\n",
       "      <td>3840.899902</td>\n",
       "      <td>3840.899902</td>\n",
       "      <td>1968575</td>\n",
       "      <td>-1.224125</td>\n",
       "    </tr>\n",
       "    <tr>\n",
       "      <th>242</th>\n",
       "      <td>2024-03-28</td>\n",
       "      <td>3850.100098</td>\n",
       "      <td>3915.000000</td>\n",
       "      <td>3840.500000</td>\n",
       "      <td>3876.300049</td>\n",
       "      <td>3876.300049</td>\n",
       "      <td>4311783</td>\n",
       "      <td>0.680501</td>\n",
       "    </tr>\n",
       "  </tbody>\n",
       "</table>\n",
       "<p>243 rows × 8 columns</p>\n",
       "</div>"
      ],
      "text/plain": [
       "           Date         Open         High          Low        Close  \\\n",
       "0    2023-04-03  3224.949951  3224.949951  3173.750000  3200.000000   \n",
       "1    2023-04-05  3185.500000  3264.350098  3185.500000  3239.800049   \n",
       "2    2023-04-06  3225.000000  3257.350098  3215.000000  3220.699951   \n",
       "3    2023-04-10  3220.000000  3272.000000  3215.000000  3263.399902   \n",
       "4    2023-04-11  3264.000000  3272.949951  3192.149902  3213.800049   \n",
       "..          ...          ...          ...          ...          ...   \n",
       "238  2024-03-21  3990.050049  4008.399902  3948.000000  3972.949951   \n",
       "239  2024-03-22  3897.000000  3938.000000  3855.000000  3910.899902   \n",
       "240  2024-03-26  3875.000000  3946.699951  3871.449951  3877.500000   \n",
       "241  2024-03-27  3888.500000  3895.000000  3829.399902  3840.899902   \n",
       "242  2024-03-28  3850.100098  3915.000000  3840.500000  3876.300049   \n",
       "\n",
       "       Adj Close   Volume  Daily_Returns  \n",
       "0    3145.387451  1521830      -0.773654  \n",
       "1    3184.508057  2655065       1.704600  \n",
       "2    3165.734131  1703464      -0.133335  \n",
       "3    3207.705322  2203187       1.347823  \n",
       "4    3158.951904  2348779      -1.537989  \n",
       "..           ...      ...            ...  \n",
       "238  3972.949951  3829582      -0.428569  \n",
       "239  3910.899902  5852485       0.356682  \n",
       "240  3877.500000  3440925       0.064516  \n",
       "241  3840.899902  1968575      -1.224125  \n",
       "242  3876.300049  4311783       0.680501  \n",
       "\n",
       "[243 rows x 8 columns]"
      ]
     },
     "execution_count": 184,
     "metadata": {},
     "output_type": "execute_result"
    }
   ],
   "source": [
    "tcs"
   ]
  },
  {
   "cell_type": "code",
   "execution_count": 185,
   "metadata": {},
   "outputs": [],
   "source": [
    "cipla.to_csv(\"infy.csv\")"
   ]
  },
  {
   "cell_type": "code",
   "execution_count": 186,
   "metadata": {},
   "outputs": [],
   "source": [
    "cipla=pd.read_csv(\"infy.csv\")"
   ]
  },
  {
   "cell_type": "code",
   "execution_count": 187,
   "metadata": {},
   "outputs": [],
   "source": [
    "cipla['Daily_Returns']=(cipla['Close']-cipla['Open'])/cipla['Open']*100"
   ]
  },
  {
   "cell_type": "code",
   "execution_count": 188,
   "metadata": {},
   "outputs": [
    {
     "data": {
      "text/html": [
       "<div>\n",
       "<style scoped>\n",
       "    .dataframe tbody tr th:only-of-type {\n",
       "        vertical-align: middle;\n",
       "    }\n",
       "\n",
       "    .dataframe tbody tr th {\n",
       "        vertical-align: top;\n",
       "    }\n",
       "\n",
       "    .dataframe thead th {\n",
       "        text-align: right;\n",
       "    }\n",
       "</style>\n",
       "<table border=\"1\" class=\"dataframe\">\n",
       "  <thead>\n",
       "    <tr style=\"text-align: right;\">\n",
       "      <th></th>\n",
       "      <th>Date</th>\n",
       "      <th>Open</th>\n",
       "      <th>High</th>\n",
       "      <th>Low</th>\n",
       "      <th>Close</th>\n",
       "      <th>Adj Close</th>\n",
       "      <th>Volume</th>\n",
       "      <th>Daily_Returns</th>\n",
       "    </tr>\n",
       "  </thead>\n",
       "  <tbody>\n",
       "    <tr>\n",
       "      <th>0</th>\n",
       "      <td>2023-04-03</td>\n",
       "      <td>910.000000</td>\n",
       "      <td>910.000000</td>\n",
       "      <td>887.049988</td>\n",
       "      <td>891.450012</td>\n",
       "      <td>884.278198</td>\n",
       "      <td>2623264</td>\n",
       "      <td>-2.038460</td>\n",
       "    </tr>\n",
       "    <tr>\n",
       "      <th>1</th>\n",
       "      <td>2023-04-05</td>\n",
       "      <td>889.000000</td>\n",
       "      <td>897.349976</td>\n",
       "      <td>886.299988</td>\n",
       "      <td>895.750000</td>\n",
       "      <td>888.543640</td>\n",
       "      <td>1612376</td>\n",
       "      <td>0.759280</td>\n",
       "    </tr>\n",
       "    <tr>\n",
       "      <th>2</th>\n",
       "      <td>2023-04-06</td>\n",
       "      <td>899.000000</td>\n",
       "      <td>899.750000</td>\n",
       "      <td>889.000000</td>\n",
       "      <td>893.349976</td>\n",
       "      <td>886.162903</td>\n",
       "      <td>1512783</td>\n",
       "      <td>-0.628479</td>\n",
       "    </tr>\n",
       "    <tr>\n",
       "      <th>3</th>\n",
       "      <td>2023-04-10</td>\n",
       "      <td>896.950012</td>\n",
       "      <td>904.500000</td>\n",
       "      <td>894.200012</td>\n",
       "      <td>901.849976</td>\n",
       "      <td>894.594543</td>\n",
       "      <td>919722</td>\n",
       "      <td>0.546292</td>\n",
       "    </tr>\n",
       "    <tr>\n",
       "      <th>4</th>\n",
       "      <td>2023-04-11</td>\n",
       "      <td>905.000000</td>\n",
       "      <td>908.150024</td>\n",
       "      <td>902.000000</td>\n",
       "      <td>907.150024</td>\n",
       "      <td>899.851929</td>\n",
       "      <td>1778775</td>\n",
       "      <td>0.237572</td>\n",
       "    </tr>\n",
       "    <tr>\n",
       "      <th>...</th>\n",
       "      <td>...</td>\n",
       "      <td>...</td>\n",
       "      <td>...</td>\n",
       "      <td>...</td>\n",
       "      <td>...</td>\n",
       "      <td>...</td>\n",
       "      <td>...</td>\n",
       "      <td>...</td>\n",
       "    </tr>\n",
       "    <tr>\n",
       "      <th>238</th>\n",
       "      <td>2024-03-21</td>\n",
       "      <td>1427.000000</td>\n",
       "      <td>1455.099976</td>\n",
       "      <td>1420.199951</td>\n",
       "      <td>1448.699951</td>\n",
       "      <td>1448.699951</td>\n",
       "      <td>1699939</td>\n",
       "      <td>1.520669</td>\n",
       "    </tr>\n",
       "    <tr>\n",
       "      <th>239</th>\n",
       "      <td>2024-03-22</td>\n",
       "      <td>1453.000000</td>\n",
       "      <td>1489.599976</td>\n",
       "      <td>1451.050049</td>\n",
       "      <td>1481.250000</td>\n",
       "      <td>1481.250000</td>\n",
       "      <td>1746930</td>\n",
       "      <td>1.944253</td>\n",
       "    </tr>\n",
       "    <tr>\n",
       "      <th>240</th>\n",
       "      <td>2024-03-26</td>\n",
       "      <td>1473.000000</td>\n",
       "      <td>1481.250000</td>\n",
       "      <td>1460.000000</td>\n",
       "      <td>1472.250000</td>\n",
       "      <td>1472.250000</td>\n",
       "      <td>1635695</td>\n",
       "      <td>-0.050916</td>\n",
       "    </tr>\n",
       "    <tr>\n",
       "      <th>241</th>\n",
       "      <td>2024-03-27</td>\n",
       "      <td>1484.000000</td>\n",
       "      <td>1496.000000</td>\n",
       "      <td>1458.000000</td>\n",
       "      <td>1463.349976</td>\n",
       "      <td>1463.349976</td>\n",
       "      <td>1642266</td>\n",
       "      <td>-1.391511</td>\n",
       "    </tr>\n",
       "    <tr>\n",
       "      <th>242</th>\n",
       "      <td>2024-03-28</td>\n",
       "      <td>1472.000000</td>\n",
       "      <td>1514.199951</td>\n",
       "      <td>1461.150024</td>\n",
       "      <td>1496.949951</td>\n",
       "      <td>1496.949951</td>\n",
       "      <td>2110407</td>\n",
       "      <td>1.694970</td>\n",
       "    </tr>\n",
       "  </tbody>\n",
       "</table>\n",
       "<p>243 rows × 8 columns</p>\n",
       "</div>"
      ],
      "text/plain": [
       "           Date         Open         High          Low        Close  \\\n",
       "0    2023-04-03   910.000000   910.000000   887.049988   891.450012   \n",
       "1    2023-04-05   889.000000   897.349976   886.299988   895.750000   \n",
       "2    2023-04-06   899.000000   899.750000   889.000000   893.349976   \n",
       "3    2023-04-10   896.950012   904.500000   894.200012   901.849976   \n",
       "4    2023-04-11   905.000000   908.150024   902.000000   907.150024   \n",
       "..          ...          ...          ...          ...          ...   \n",
       "238  2024-03-21  1427.000000  1455.099976  1420.199951  1448.699951   \n",
       "239  2024-03-22  1453.000000  1489.599976  1451.050049  1481.250000   \n",
       "240  2024-03-26  1473.000000  1481.250000  1460.000000  1472.250000   \n",
       "241  2024-03-27  1484.000000  1496.000000  1458.000000  1463.349976   \n",
       "242  2024-03-28  1472.000000  1514.199951  1461.150024  1496.949951   \n",
       "\n",
       "       Adj Close   Volume  Daily_Returns  \n",
       "0     884.278198  2623264      -2.038460  \n",
       "1     888.543640  1612376       0.759280  \n",
       "2     886.162903  1512783      -0.628479  \n",
       "3     894.594543   919722       0.546292  \n",
       "4     899.851929  1778775       0.237572  \n",
       "..           ...      ...            ...  \n",
       "238  1448.699951  1699939       1.520669  \n",
       "239  1481.250000  1746930       1.944253  \n",
       "240  1472.250000  1635695      -0.050916  \n",
       "241  1463.349976  1642266      -1.391511  \n",
       "242  1496.949951  2110407       1.694970  \n",
       "\n",
       "[243 rows x 8 columns]"
      ]
     },
     "execution_count": 188,
     "metadata": {},
     "output_type": "execute_result"
    }
   ],
   "source": [
    "cipla"
   ]
  },
  {
   "cell_type": "code",
   "execution_count": 189,
   "metadata": {},
   "outputs": [],
   "source": [
    "df = {\n",
    "    \"tcs\":tcs['Daily_Returns'],\n",
    "    \"cipla\":cipla['Daily_Returns']\n",
    "}\n",
    "new= pd.DataFrame(df)"
   ]
  },
  {
   "cell_type": "code",
   "execution_count": 190,
   "metadata": {},
   "outputs": [],
   "source": [
    "import matplotlib.pyplot as plt"
   ]
  },
  {
   "cell_type": "code",
   "execution_count": 191,
   "metadata": {},
   "outputs": [
    {
     "data": {
      "image/png": "[encoded data removed]",
      "text/plain": [
       "<Figure size 640x480 with 1 Axes>"
      ]
     },
     "metadata": {},
     "output_type": "display_data"
    }
   ],
   "source": [
    "plt.scatter(new['tcs'], new['cipla'])\n",
    "plt.xlabel('tcs')\n",
    "plt.ylabel('cipla')\n",
    "plt.title('Scatter Plot of tcs vs.cipla')\n",
    "plt.show()"
   ]
  },
  {
   "cell_type": "code",
   "execution_count": 192,
   "metadata": {},
   "outputs": [],
   "source": [
    "def Correlation_Calculator(data1,data2):\n",
    "    data1_mean=np.mean(data1)\n",
    "    data2_mean=np.mean(data2)\n",
    "    covariance=sum((data1[i]-data1_mean)*(data2[i]-data2_mean) for i in range(len(data1)))/len(data1)\n",
    "    data1_standard_deviation=np.std(data1)\n",
    "    data2_standard_deviation=np.std(data2)\n",
    "    Correlation=covariance/(data1_standard_deviation*data2_standard_deviation)\n",
    "    return Correlation"
   ]
  },
  {
   "cell_type": "markdown",
   "metadata": {},
   "source": [
    "Stocks which have correlation <=0.1"
   ]
  },
  {
   "cell_type": "code",
   "execution_count": 193,
   "metadata": {},
   "outputs": [
    {
     "data": {
      "text/plain": [
       "0.020221700277208213"
      ]
     },
     "execution_count": 193,
     "metadata": {},
     "output_type": "execute_result"
    }
   ],
   "source": [
    "Correlation_Calculator(new['tcs'],new['cipla'])"
   ]
  },
  {
   "cell_type": "code",
   "execution_count": 194,
   "metadata": {},
   "outputs": [
    {
     "name": "stderr",
     "output_type": "stream",
     "text": [
      "[*********************100%%**********************]  1 of 1 completed\n"
     ]
    }
   ],
   "source": [
    "pypl=yf.download(\"PYPL\",start='2023-04-01',end='2024-03-31')"
   ]
  },
  {
   "cell_type": "code",
   "execution_count": 195,
   "metadata": {},
   "outputs": [
    {
     "name": "stderr",
     "output_type": "stream",
     "text": [
      "[*********************100%%**********************]  1 of 1 completed\n"
     ]
    }
   ],
   "source": [
    "arkk=yf.download(\"ARKK\",start='2023-04-01',end='2024-03-31')"
   ]
  },
  {
   "cell_type": "code",
   "execution_count": 196,
   "metadata": {},
   "outputs": [],
   "source": [
    "pypl['Daily_Returns']=(pypl['Close']-pypl['Open'])/pypl['Open']*100"
   ]
  },
  {
   "cell_type": "code",
   "execution_count": 197,
   "metadata": {},
   "outputs": [],
   "source": [
    "arkk['Daily_Returns']=(arkk['Close']-arkk['Open'])/arkk['Open']*100"
   ]
  },
  {
   "cell_type": "code",
   "execution_count": null,
   "metadata": {},
   "outputs": [],
   "source": []
  },
  {
   "cell_type": "code",
   "execution_count": 198,
   "metadata": {},
   "outputs": [],
   "source": [
    "f = {\n",
    "    \"Daily_return_pypl\":pypl['Daily_Returns'],\n",
    "    \"Daily_return_arkk\":arkk['Daily_Returns']\n",
    "}\n",
    "dat= pd.DataFrame(f)"
   ]
  },
  {
   "cell_type": "code",
   "execution_count": 199,
   "metadata": {},
   "outputs": [
    {
     "data": {
      "text/html": [
       "<div>\n",
       "<style scoped>\n",
       "    .dataframe tbody tr th:only-of-type {\n",
       "        vertical-align: middle;\n",
       "    }\n",
       "\n",
       "    .dataframe tbody tr th {\n",
       "        vertical-align: top;\n",
       "    }\n",
       "\n",
       "    .dataframe thead th {\n",
       "        text-align: right;\n",
       "    }\n",
       "</style>\n",
       "<table border=\"1\" class=\"dataframe\">\n",
       "  <thead>\n",
       "    <tr style=\"text-align: right;\">\n",
       "      <th></th>\n",
       "      <th>Daily_return_pypl</th>\n",
       "      <th>Daily_return_arkk</th>\n",
       "    </tr>\n",
       "    <tr>\n",
       "      <th>Date</th>\n",
       "      <th></th>\n",
       "      <th></th>\n",
       "    </tr>\n",
       "  </thead>\n",
       "  <tbody>\n",
       "    <tr>\n",
       "      <th>2023-04-03</th>\n",
       "      <td>-0.442974</td>\n",
       "      <td>-0.502758</td>\n",
       "    </tr>\n",
       "    <tr>\n",
       "      <th>2023-04-04</th>\n",
       "      <td>-0.265037</td>\n",
       "      <td>-1.229307</td>\n",
       "    </tr>\n",
       "    <tr>\n",
       "      <th>2023-04-05</th>\n",
       "      <td>-1.997071</td>\n",
       "      <td>-2.790579</td>\n",
       "    </tr>\n",
       "    <tr>\n",
       "      <th>2023-04-06</th>\n",
       "      <td>2.306541</td>\n",
       "      <td>2.340267</td>\n",
       "    </tr>\n",
       "    <tr>\n",
       "      <th>2023-04-10</th>\n",
       "      <td>0.080577</td>\n",
       "      <td>1.635450</td>\n",
       "    </tr>\n",
       "    <tr>\n",
       "      <th>...</th>\n",
       "      <td>...</td>\n",
       "      <td>...</td>\n",
       "    </tr>\n",
       "    <tr>\n",
       "      <th>2024-03-22</th>\n",
       "      <td>-2.513555</td>\n",
       "      <td>-1.318154</td>\n",
       "    </tr>\n",
       "    <tr>\n",
       "      <th>2024-03-25</th>\n",
       "      <td>1.851847</td>\n",
       "      <td>1.679486</td>\n",
       "    </tr>\n",
       "    <tr>\n",
       "      <th>2024-03-26</th>\n",
       "      <td>-0.104884</td>\n",
       "      <td>-1.535136</td>\n",
       "    </tr>\n",
       "    <tr>\n",
       "      <th>2024-03-27</th>\n",
       "      <td>-1.698171</td>\n",
       "      <td>-1.338847</td>\n",
       "    </tr>\n",
       "    <tr>\n",
       "      <th>2024-03-28</th>\n",
       "      <td>0.179445</td>\n",
       "      <td>-0.278772</td>\n",
       "    </tr>\n",
       "  </tbody>\n",
       "</table>\n",
       "<p>249 rows × 2 columns</p>\n",
       "</div>"
      ],
      "text/plain": [
       "            Daily_return_pypl  Daily_return_arkk\n",
       "Date                                            \n",
       "2023-04-03          -0.442974          -0.502758\n",
       "2023-04-04          -0.265037          -1.229307\n",
       "2023-04-05          -1.997071          -2.790579\n",
       "2023-04-06           2.306541           2.340267\n",
       "2023-04-10           0.080577           1.635450\n",
       "...                       ...                ...\n",
       "2024-03-22          -2.513555          -1.318154\n",
       "2024-03-25           1.851847           1.679486\n",
       "2024-03-26          -0.104884          -1.535136\n",
       "2024-03-27          -1.698171          -1.338847\n",
       "2024-03-28           0.179445          -0.278772\n",
       "\n",
       "[249 rows x 2 columns]"
      ]
     },
     "execution_count": 199,
     "metadata": {},
     "output_type": "execute_result"
    }
   ],
   "source": [
    "dat"
   ]
  },
  {
   "cell_type": "markdown",
   "metadata": {},
   "source": [
    "Stocks having Correlation >= 0.5"
   ]
  },
  {
   "cell_type": "code",
   "execution_count": 200,
   "metadata": {},
   "outputs": [
    {
     "name": "stderr",
     "output_type": "stream",
     "text": [
      "C:\\Users\\atitk\\AppData\\Local\\Temp\\ipykernel_38036\\2708406848.py:4: FutureWarning: Series.__getitem__ treating keys as positions is deprecated. In a future version, integer keys will always be treated as labels (consistent with DataFrame behavior). To access a value by position, use `ser.iloc[pos]`\n",
      "  covariance=sum((data1[i]-data1_mean)*(data2[i]-data2_mean) for i in range(len(data1)))/len(data1)\n"
     ]
    },
    {
     "data": {
      "text/plain": [
       "0.524115882302133"
      ]
     },
     "execution_count": 200,
     "metadata": {},
     "output_type": "execute_result"
    }
   ],
   "source": [
    "Correlation_Calculator(dat['Daily_return_pypl'],dat['Daily_return_arkk'])"
   ]
  },
  {
   "cell_type": "code",
   "execution_count": 201,
   "metadata": {},
   "outputs": [
    {
     "data": {
      "image/png": "[encoded data removed]",
      "text/plain": [
       "<Figure size 640x480 with 1 Axes>"
      ]
     },
     "metadata": {},
     "output_type": "display_data"
    }
   ],
   "source": [
    "plt.scatter(dat['Daily_return_pypl'], dat['Daily_return_arkk'])\n",
    "plt.xlabel('Daily_return_pypl')\n",
    "plt.ylabel('Daily_return_arkk')\n",
    "plt.title('Scatter Plot of Daily_return_pypl vs. Daily_return_arkk')\n",
    "plt.show()"
   ]
  },
  {
   "cell_type": "markdown",
   "metadata": {},
   "source": [
    "#\n",
    "Q.(c)"
   ]
  },
  {
   "cell_type": "markdown",
   "metadata": {},
   "source": [
    "*PYPL AND ARKK are Fintech company so they have a correlation of 0.524116 which means that they some how move closely together as they operate in similar market and provide similar services and are subject to similar market industry while in case of TCS.NS and CIPLA.NS are completely different company one is IT company while other is Pharmaceuticals company so they show correlation of 0.020222 which means they can help in diversifying a portfolio but they don't move together*"
   ]
  },
  {
   "cell_type": "code",
   "execution_count": null,
   "metadata": {},
   "outputs": [],
   "source": []
  }
 ],
 "metadata": {
  "kernelspec": {
   "display_name": "Python 3",
   "language": "python",
   "name": "python3"
  },
  "language_info": {
   "codemirror_mode": {
    "name": "ipython",
    "version": 3
   },
   "file_extension": ".py",
   "mimetype": "text/x-python",
   "name": "python",
   "nbconvert_exporter": "python",
   "pygments_lexer": "ipython3",
   "version": "3.11.9"
  }
 },
 "nbformat": 4,
 "nbformat_minor": 2
}
