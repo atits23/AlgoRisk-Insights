{
 "cells": [
  {
   "cell_type": "code",
   "execution_count": 29,
   "metadata": {},
   "outputs": [],
   "source": [
    "import numpy as np\n",
    "import pandas as pd\n",
    "import yfinance as yf"
   ]
  },
  {
   "cell_type": "code",
   "execution_count": 30,
   "metadata": {},
   "outputs": [
    {
     "name": "stderr",
     "output_type": "stream",
     "text": [
      "[*********************100%%**********************]  1 of 1 completed\n"
     ]
    }
   ],
   "source": [
    "tcs=yf.download('TCS.NS',start='2019-01-01',end='2024-01-01')"
   ]
  },
  {
   "cell_type": "code",
   "execution_count": 31,
   "metadata": {},
   "outputs": [],
   "source": [
    "tcs.to_csv('df.csv')"
   ]
  },
  {
   "cell_type": "code",
   "execution_count": 32,
   "metadata": {},
   "outputs": [],
   "source": [
    "df=pd.read_csv('df.csv')"
   ]
  },
  {
   "cell_type": "code",
   "execution_count": 33,
   "metadata": {},
   "outputs": [],
   "source": [
    "stop_loss_level=0.02"
   ]
  },
  {
   "cell_type": "code",
   "execution_count": 34,
   "metadata": {},
   "outputs": [],
   "source": [
    "take_profit_level=0.04"
   ]
  },
  {
   "cell_type": "code",
   "execution_count": 35,
   "metadata": {},
   "outputs": [],
   "source": [
    "entry_point=[]\n",
    "exit_point=[]\n",
    "def NetReturn(data,stop_loss_level,take_profit_level):\n",
    "    Net_Return=0\n",
    "    signal=False\n",
    "    for i in range(len(data)):\n",
    "        if not signal:\n",
    "            current=data['Close'].iloc[i]\n",
    "            entry_point.append(data['Date'].iloc[i])\n",
    "            Stop_Loss=(1-stop_loss_level)*current\n",
    "            Take_Profit=(1+take_profit_level)*current\n",
    "            signal=True\n",
    "        else:\n",
    "            if(data['Close'].iloc[i]<=Stop_Loss or data['Close'].iloc[i]>=Take_Profit):\n",
    "                exit_point.append(data['Date'].iloc[i])\n",
    "                Net_Return+=(data['Close'].iloc[i]-current)\n",
    "                signal=False\n",
    "    if signal:\n",
    "        exit_point.append(data['Date'].iloc[i])     \n",
    "        Net_Return+=(data['Close'].iloc[i]-current)\n",
    "    return Net_Return"
   ]
  },
  {
   "cell_type": "code",
   "execution_count": 36,
   "metadata": {},
   "outputs": [],
   "source": [
    "Net_Return=NetReturn(df,stop_loss_level,take_profit_level)"
   ]
  },
  {
   "cell_type": "code",
   "execution_count": 37,
   "metadata": {},
   "outputs": [
    {
     "data": {
      "text/plain": [
       "1612.6993408203125"
      ]
     },
     "execution_count": 37,
     "metadata": {},
     "output_type": "execute_result"
    }
   ],
   "source": [
    "Net_Return"
   ]
  },
  {
   "cell_type": "code",
   "execution_count": null,
   "metadata": {},
   "outputs": [],
   "source": []
  }
 ],
 "metadata": {
  "kernelspec": {
   "display_name": "Python 3",
   "language": "python",
   "name": "python3"
  },
  "language_info": {
   "codemirror_mode": {
    "name": "ipython",
    "version": 3
   },
   "file_extension": ".py",
   "mimetype": "text/x-python",
   "name": "python",
   "nbconvert_exporter": "python",
   "pygments_lexer": "ipython3",
   "version": "3.11.9"
  }
 },
 "nbformat": 4,
 "nbformat_minor": 2
}
