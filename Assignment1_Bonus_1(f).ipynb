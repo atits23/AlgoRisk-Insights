{
 "cells": [
  {
   "cell_type": "markdown",
   "metadata": {},
   "source": [
    "BONUS Question 1(f): Modify your code in Problem 1, when you can trade only integer share quantities (real-world scenario) and recalculate the metrics in parts (a) and (b)"
   ]
  },
  {
   "cell_type": "code",
   "execution_count": 331,
   "metadata": {},
   "outputs": [],
   "source": [
    "import numpy as np\n",
    "import pandas as pd\n",
    "import yfinance as yf\n",
    "import matplotlib.pyplot as plt "
   ]
  },
  {
   "cell_type": "code",
   "execution_count": 332,
   "metadata": {},
   "outputs": [
    {
     "name": "stderr",
     "output_type": "stream",
     "text": [
      "[*********************100%%**********************]  1 of 1 completed"
     ]
    },
    {
     "name": "stderr",
     "output_type": "stream",
     "text": [
      "\n"
     ]
    }
   ],
   "source": [
    "ndata=yf.download('RELIANCE.NS',start='2023-04-01',end='2024-03-31')"
   ]
  },
  {
   "cell_type": "code",
   "execution_count": 333,
   "metadata": {},
   "outputs": [],
   "source": [
    "ndata.to_csv('bonus.csv')"
   ]
  },
  {
   "cell_type": "code",
   "execution_count": 334,
   "metadata": {},
   "outputs": [],
   "source": [
    "bonus=pd.read_csv('bonus.csv')"
   ]
  },
  {
   "cell_type": "code",
   "execution_count": 335,
   "metadata": {},
   "outputs": [],
   "source": [
    "initial_capital=int(100000)"
   ]
  },
  {
   "cell_type": "code",
   "execution_count": 336,
   "metadata": {},
   "outputs": [
    {
     "data": {
      "text/html": [
       "<div>\n",
       "<style scoped>\n",
       "    .dataframe tbody tr th:only-of-type {\n",
       "        vertical-align: middle;\n",
       "    }\n",
       "\n",
       "    .dataframe tbody tr th {\n",
       "        vertical-align: top;\n",
       "    }\n",
       "\n",
       "    .dataframe thead th {\n",
       "        text-align: right;\n",
       "    }\n",
       "</style>\n",
       "<table border=\"1\" class=\"dataframe\">\n",
       "  <thead>\n",
       "    <tr style=\"text-align: right;\">\n",
       "      <th></th>\n",
       "      <th>Date</th>\n",
       "      <th>Open</th>\n",
       "      <th>High</th>\n",
       "      <th>Low</th>\n",
       "      <th>Close</th>\n",
       "      <th>Adj Close</th>\n",
       "      <th>Volume</th>\n",
       "    </tr>\n",
       "  </thead>\n",
       "  <tbody>\n",
       "    <tr>\n",
       "      <th>0</th>\n",
       "      <td>2023-04-03</td>\n",
       "      <td>2164.434326</td>\n",
       "      <td>2168.126221</td>\n",
       "      <td>2136.744141</td>\n",
       "      <td>2151.927490</td>\n",
       "      <td>2144.352783</td>\n",
       "      <td>5146521</td>\n",
       "    </tr>\n",
       "    <tr>\n",
       "      <th>1</th>\n",
       "      <td>2023-04-05</td>\n",
       "      <td>2167.203125</td>\n",
       "      <td>2167.203125</td>\n",
       "      <td>2130.791016</td>\n",
       "      <td>2146.758789</td>\n",
       "      <td>2139.202148</td>\n",
       "      <td>8131464</td>\n",
       "    </tr>\n",
       "    <tr>\n",
       "      <th>2</th>\n",
       "      <td>2023-04-06</td>\n",
       "      <td>2139.651611</td>\n",
       "      <td>2172.741211</td>\n",
       "      <td>2139.651611</td>\n",
       "      <td>2161.157471</td>\n",
       "      <td>2153.550049</td>\n",
       "      <td>9217523</td>\n",
       "    </tr>\n",
       "    <tr>\n",
       "      <th>3</th>\n",
       "      <td>2023-04-10</td>\n",
       "      <td>2169.049316</td>\n",
       "      <td>2169.418457</td>\n",
       "      <td>2142.789795</td>\n",
       "      <td>2145.835693</td>\n",
       "      <td>2138.282227</td>\n",
       "      <td>6480704</td>\n",
       "    </tr>\n",
       "    <tr>\n",
       "      <th>4</th>\n",
       "      <td>2023-04-11</td>\n",
       "      <td>2154.281250</td>\n",
       "      <td>2160.742188</td>\n",
       "      <td>2145.097412</td>\n",
       "      <td>2156.450195</td>\n",
       "      <td>2148.859375</td>\n",
       "      <td>5271183</td>\n",
       "    </tr>\n",
       "    <tr>\n",
       "      <th>...</th>\n",
       "      <td>...</td>\n",
       "      <td>...</td>\n",
       "      <td>...</td>\n",
       "      <td>...</td>\n",
       "      <td>...</td>\n",
       "      <td>...</td>\n",
       "      <td>...</td>\n",
       "    </tr>\n",
       "    <tr>\n",
       "      <th>238</th>\n",
       "      <td>2024-03-21</td>\n",
       "      <td>2905.050049</td>\n",
       "      <td>2915.800049</td>\n",
       "      <td>2889.350098</td>\n",
       "      <td>2901.949951</td>\n",
       "      <td>2901.949951</td>\n",
       "      <td>6503468</td>\n",
       "    </tr>\n",
       "    <tr>\n",
       "      <th>239</th>\n",
       "      <td>2024-03-22</td>\n",
       "      <td>2899.949951</td>\n",
       "      <td>2920.000000</td>\n",
       "      <td>2894.699951</td>\n",
       "      <td>2910.050049</td>\n",
       "      <td>2910.050049</td>\n",
       "      <td>9763804</td>\n",
       "    </tr>\n",
       "    <tr>\n",
       "      <th>240</th>\n",
       "      <td>2024-03-26</td>\n",
       "      <td>2890.000000</td>\n",
       "      <td>2904.800049</td>\n",
       "      <td>2878.000000</td>\n",
       "      <td>2883.149902</td>\n",
       "      <td>2883.149902</td>\n",
       "      <td>5707953</td>\n",
       "    </tr>\n",
       "    <tr>\n",
       "      <th>241</th>\n",
       "      <td>2024-03-27</td>\n",
       "      <td>2896.000000</td>\n",
       "      <td>3000.000000</td>\n",
       "      <td>2894.000000</td>\n",
       "      <td>2985.699951</td>\n",
       "      <td>2985.699951</td>\n",
       "      <td>8163322</td>\n",
       "    </tr>\n",
       "    <tr>\n",
       "      <th>242</th>\n",
       "      <td>2024-03-28</td>\n",
       "      <td>2985.750000</td>\n",
       "      <td>3011.899902</td>\n",
       "      <td>2957.300049</td>\n",
       "      <td>2971.699951</td>\n",
       "      <td>2971.699951</td>\n",
       "      <td>10927182</td>\n",
       "    </tr>\n",
       "  </tbody>\n",
       "</table>\n",
       "<p>243 rows × 7 columns</p>\n",
       "</div>"
      ],
      "text/plain": [
       "           Date         Open         High          Low        Close  \\\n",
       "0    2023-04-03  2164.434326  2168.126221  2136.744141  2151.927490   \n",
       "1    2023-04-05  2167.203125  2167.203125  2130.791016  2146.758789   \n",
       "2    2023-04-06  2139.651611  2172.741211  2139.651611  2161.157471   \n",
       "3    2023-04-10  2169.049316  2169.418457  2142.789795  2145.835693   \n",
       "4    2023-04-11  2154.281250  2160.742188  2145.097412  2156.450195   \n",
       "..          ...          ...          ...          ...          ...   \n",
       "238  2024-03-21  2905.050049  2915.800049  2889.350098  2901.949951   \n",
       "239  2024-03-22  2899.949951  2920.000000  2894.699951  2910.050049   \n",
       "240  2024-03-26  2890.000000  2904.800049  2878.000000  2883.149902   \n",
       "241  2024-03-27  2896.000000  3000.000000  2894.000000  2985.699951   \n",
       "242  2024-03-28  2985.750000  3011.899902  2957.300049  2971.699951   \n",
       "\n",
       "       Adj Close    Volume  \n",
       "0    2144.352783   5146521  \n",
       "1    2139.202148   8131464  \n",
       "2    2153.550049   9217523  \n",
       "3    2138.282227   6480704  \n",
       "4    2148.859375   5271183  \n",
       "..           ...       ...  \n",
       "238  2901.949951   6503468  \n",
       "239  2910.050049   9763804  \n",
       "240  2883.149902   5707953  \n",
       "241  2985.699951   8163322  \n",
       "242  2971.699951  10927182  \n",
       "\n",
       "[243 rows x 7 columns]"
      ]
     },
     "execution_count": 336,
     "metadata": {},
     "output_type": "execute_result"
    }
   ],
   "source": [
    "bonus"
   ]
  },
  {
   "cell_type": "markdown",
   "metadata": {},
   "source": [
    "To calculate new capital after everyday trade considering that stock can be brought in integer multiple only"
   ]
  },
  {
   "cell_type": "code",
   "execution_count": 337,
   "metadata": {},
   "outputs": [],
   "source": [
    "new_cap=[]\n",
    "stocks_purchased=0\n",
    "new_capital=initial_capital\n",
    "for i in range(243):\n",
    "    stocks_purchased=initial_capital//bonus['Open'].iloc[i]\n",
    "    new_capital-=stocks_purchased*bonus['Open'].iloc[i]\n",
    "    new_capital+=stocks_purchased*bonus['Close'].iloc[i]\n",
    "    new_cap.append(new_capital)\n",
    "    initial_capital=new_capital\n",
    "    # print(stocks_purchased)\n",
    "final_capital=initial_capital"
   ]
  },
  {
   "cell_type": "code",
   "execution_count": 338,
   "metadata": {},
   "outputs": [],
   "source": [
    "New_Capital=pd.DataFrame(new_cap)"
   ]
  },
  {
   "cell_type": "code",
   "execution_count": 339,
   "metadata": {},
   "outputs": [],
   "source": [
    "bonus['New_Capital']=New_Capital"
   ]
  },
  {
   "cell_type": "markdown",
   "metadata": {},
   "source": [
    "#\n",
    "Calculating final capital"
   ]
  },
  {
   "cell_type": "code",
   "execution_count": 340,
   "metadata": {},
   "outputs": [
    {
     "data": {
      "text/plain": [
       "100171.31420898438"
      ]
     },
     "execution_count": 340,
     "metadata": {},
     "output_type": "execute_result"
    }
   ],
   "source": [
    "final_capital  #Part(1) answer"
   ]
  },
  {
   "cell_type": "code",
   "execution_count": 341,
   "metadata": {},
   "outputs": [],
   "source": [
    "bonus['Daily_Returns']=(bonus['Close']-bonus['Open'])/bonus['Open']*100"
   ]
  },
  {
   "cell_type": "code",
   "execution_count": 342,
   "metadata": {},
   "outputs": [
    {
     "data": {
      "text/html": [
       "<div>\n",
       "<style scoped>\n",
       "    .dataframe tbody tr th:only-of-type {\n",
       "        vertical-align: middle;\n",
       "    }\n",
       "\n",
       "    .dataframe tbody tr th {\n",
       "        vertical-align: top;\n",
       "    }\n",
       "\n",
       "    .dataframe thead th {\n",
       "        text-align: right;\n",
       "    }\n",
       "</style>\n",
       "<table border=\"1\" class=\"dataframe\">\n",
       "  <thead>\n",
       "    <tr style=\"text-align: right;\">\n",
       "      <th></th>\n",
       "      <th>Date</th>\n",
       "      <th>Open</th>\n",
       "      <th>High</th>\n",
       "      <th>Low</th>\n",
       "      <th>Close</th>\n",
       "      <th>Adj Close</th>\n",
       "      <th>Volume</th>\n",
       "      <th>New_Capital</th>\n",
       "      <th>Daily_Returns</th>\n",
       "    </tr>\n",
       "  </thead>\n",
       "  <tbody>\n",
       "    <tr>\n",
       "      <th>0</th>\n",
       "      <td>2023-04-03</td>\n",
       "      <td>2164.434326</td>\n",
       "      <td>2168.126221</td>\n",
       "      <td>2136.744141</td>\n",
       "      <td>2151.927490</td>\n",
       "      <td>2144.352783</td>\n",
       "      <td>5146521</td>\n",
       "      <td>99424.685547</td>\n",
       "      <td>-0.577834</td>\n",
       "    </tr>\n",
       "    <tr>\n",
       "      <th>1</th>\n",
       "      <td>2023-04-05</td>\n",
       "      <td>2167.203125</td>\n",
       "      <td>2167.203125</td>\n",
       "      <td>2130.791016</td>\n",
       "      <td>2146.758789</td>\n",
       "      <td>2139.202148</td>\n",
       "      <td>8131464</td>\n",
       "      <td>98504.690430</td>\n",
       "      <td>-0.943351</td>\n",
       "    </tr>\n",
       "    <tr>\n",
       "      <th>2</th>\n",
       "      <td>2023-04-06</td>\n",
       "      <td>2139.651611</td>\n",
       "      <td>2172.741211</td>\n",
       "      <td>2139.651611</td>\n",
       "      <td>2161.157471</td>\n",
       "      <td>2153.550049</td>\n",
       "      <td>9217523</td>\n",
       "      <td>99493.959961</td>\n",
       "      <td>1.005110</td>\n",
       "    </tr>\n",
       "    <tr>\n",
       "      <th>3</th>\n",
       "      <td>2023-04-10</td>\n",
       "      <td>2169.049316</td>\n",
       "      <td>2169.418457</td>\n",
       "      <td>2142.789795</td>\n",
       "      <td>2145.835693</td>\n",
       "      <td>2138.282227</td>\n",
       "      <td>6480704</td>\n",
       "      <td>98449.346924</td>\n",
       "      <td>-1.070221</td>\n",
       "    </tr>\n",
       "    <tr>\n",
       "      <th>4</th>\n",
       "      <td>2023-04-11</td>\n",
       "      <td>2154.281250</td>\n",
       "      <td>2160.742188</td>\n",
       "      <td>2145.097412</td>\n",
       "      <td>2156.450195</td>\n",
       "      <td>2148.859375</td>\n",
       "      <td>5271183</td>\n",
       "      <td>98546.949463</td>\n",
       "      <td>0.100681</td>\n",
       "    </tr>\n",
       "    <tr>\n",
       "      <th>...</th>\n",
       "      <td>...</td>\n",
       "      <td>...</td>\n",
       "      <td>...</td>\n",
       "      <td>...</td>\n",
       "      <td>...</td>\n",
       "      <td>...</td>\n",
       "      <td>...</td>\n",
       "      <td>...</td>\n",
       "      <td>...</td>\n",
       "    </tr>\n",
       "    <tr>\n",
       "      <th>238</th>\n",
       "      <td>2024-03-21</td>\n",
       "      <td>2905.050049</td>\n",
       "      <td>2915.800049</td>\n",
       "      <td>2889.350098</td>\n",
       "      <td>2901.949951</td>\n",
       "      <td>2901.949951</td>\n",
       "      <td>6503468</td>\n",
       "      <td>97567.617432</td>\n",
       "      <td>-0.106714</td>\n",
       "    </tr>\n",
       "    <tr>\n",
       "      <th>239</th>\n",
       "      <td>2024-03-22</td>\n",
       "      <td>2899.949951</td>\n",
       "      <td>2920.000000</td>\n",
       "      <td>2894.699951</td>\n",
       "      <td>2910.050049</td>\n",
       "      <td>2910.050049</td>\n",
       "      <td>9763804</td>\n",
       "      <td>97900.920654</td>\n",
       "      <td>0.348285</td>\n",
       "    </tr>\n",
       "    <tr>\n",
       "      <th>240</th>\n",
       "      <td>2024-03-26</td>\n",
       "      <td>2890.000000</td>\n",
       "      <td>2904.800049</td>\n",
       "      <td>2878.000000</td>\n",
       "      <td>2883.149902</td>\n",
       "      <td>2883.149902</td>\n",
       "      <td>5707953</td>\n",
       "      <td>97674.867432</td>\n",
       "      <td>-0.237028</td>\n",
       "    </tr>\n",
       "    <tr>\n",
       "      <th>241</th>\n",
       "      <td>2024-03-27</td>\n",
       "      <td>2896.000000</td>\n",
       "      <td>3000.000000</td>\n",
       "      <td>2894.000000</td>\n",
       "      <td>2985.699951</td>\n",
       "      <td>2985.699951</td>\n",
       "      <td>8163322</td>\n",
       "      <td>100634.965820</td>\n",
       "      <td>3.097374</td>\n",
       "    </tr>\n",
       "    <tr>\n",
       "      <th>242</th>\n",
       "      <td>2024-03-28</td>\n",
       "      <td>2985.750000</td>\n",
       "      <td>3011.899902</td>\n",
       "      <td>2957.300049</td>\n",
       "      <td>2971.699951</td>\n",
       "      <td>2971.699951</td>\n",
       "      <td>10927182</td>\n",
       "      <td>100171.314209</td>\n",
       "      <td>-0.470570</td>\n",
       "    </tr>\n",
       "  </tbody>\n",
       "</table>\n",
       "<p>243 rows × 9 columns</p>\n",
       "</div>"
      ],
      "text/plain": [
       "           Date         Open         High          Low        Close  \\\n",
       "0    2023-04-03  2164.434326  2168.126221  2136.744141  2151.927490   \n",
       "1    2023-04-05  2167.203125  2167.203125  2130.791016  2146.758789   \n",
       "2    2023-04-06  2139.651611  2172.741211  2139.651611  2161.157471   \n",
       "3    2023-04-10  2169.049316  2169.418457  2142.789795  2145.835693   \n",
       "4    2023-04-11  2154.281250  2160.742188  2145.097412  2156.450195   \n",
       "..          ...          ...          ...          ...          ...   \n",
       "238  2024-03-21  2905.050049  2915.800049  2889.350098  2901.949951   \n",
       "239  2024-03-22  2899.949951  2920.000000  2894.699951  2910.050049   \n",
       "240  2024-03-26  2890.000000  2904.800049  2878.000000  2883.149902   \n",
       "241  2024-03-27  2896.000000  3000.000000  2894.000000  2985.699951   \n",
       "242  2024-03-28  2985.750000  3011.899902  2957.300049  2971.699951   \n",
       "\n",
       "       Adj Close    Volume    New_Capital  Daily_Returns  \n",
       "0    2144.352783   5146521   99424.685547      -0.577834  \n",
       "1    2139.202148   8131464   98504.690430      -0.943351  \n",
       "2    2153.550049   9217523   99493.959961       1.005110  \n",
       "3    2138.282227   6480704   98449.346924      -1.070221  \n",
       "4    2148.859375   5271183   98546.949463       0.100681  \n",
       "..           ...       ...            ...            ...  \n",
       "238  2901.949951   6503468   97567.617432      -0.106714  \n",
       "239  2910.050049   9763804   97900.920654       0.348285  \n",
       "240  2883.149902   5707953   97674.867432      -0.237028  \n",
       "241  2985.699951   8163322  100634.965820       3.097374  \n",
       "242  2971.699951  10927182  100171.314209      -0.470570  \n",
       "\n",
       "[243 rows x 9 columns]"
      ]
     },
     "execution_count": 342,
     "metadata": {},
     "output_type": "execute_result"
    }
   ],
   "source": [
    "bonus"
   ]
  },
  {
   "cell_type": "code",
   "execution_count": 343,
   "metadata": {},
   "outputs": [],
   "source": [
    "risk_free_rate=0.05\n"
   ]
  },
  {
   "cell_type": "markdown",
   "metadata": {},
   "source": [
    "Function for Sharpe_Ratio"
   ]
  },
  {
   "cell_type": "code",
   "execution_count": 344,
   "metadata": {},
   "outputs": [],
   "source": [
    "def Sharpe_calculate(daily,risk_free_rate,days=243):\n",
    "    excess=np.mean(daily)-risk_free_rate\n",
    "    standard_deviation=np.std(daily)\n",
    "    sharpe_ratio=(np.sqrt(days)*excess)/standard_deviation\n",
    "    return sharpe_ratio"
   ]
  },
  {
   "cell_type": "markdown",
   "metadata": {},
   "source": [
    "Value of Sharpe Ratio"
   ]
  },
  {
   "cell_type": "code",
   "execution_count": 345,
   "metadata": {},
   "outputs": [
    {
     "data": {
      "text/plain": [
       "-0.6141728390234215"
      ]
     },
     "execution_count": 345,
     "metadata": {},
     "output_type": "execute_result"
    }
   ],
   "source": [
    "Sharpe_calculate(bonus['Daily_Returns'],risk_free_rate)\n"
   ]
  },
  {
   "cell_type": "markdown",
   "metadata": {},
   "source": [
    "Function to calculate Maximum drawdown"
   ]
  },
  {
   "cell_type": "code",
   "execution_count": 346,
   "metadata": {},
   "outputs": [],
   "source": [
    "def max_drawdown(data):\n",
    "    high=data[0]\n",
    "    maximum_drawdown=0.0\n",
    "    for i in range(1,len(data)):\n",
    "        if data[i]>high:\n",
    "            high=data[i]\n",
    "        else:\n",
    "            drawdown = (high-data[i])/high\n",
    "            if drawdown>maximum_drawdown:\n",
    "                maximum_drawdown=drawdown\n",
    "\n",
    "    return maximum_drawdown*100\n",
    "\n"
   ]
  },
  {
   "cell_type": "code",
   "execution_count": 347,
   "metadata": {},
   "outputs": [],
   "source": [
    "maximum_drawdown=max_drawdown(bonus['Close'])"
   ]
  },
  {
   "cell_type": "markdown",
   "metadata": {},
   "source": [
    "Maximum Drawdown(in %)"
   ]
  },
  {
   "cell_type": "code",
   "execution_count": 348,
   "metadata": {},
   "outputs": [
    {
     "data": {
      "text/plain": [
       "15.117140238518223"
      ]
     },
     "execution_count": 348,
     "metadata": {},
     "output_type": "execute_result"
    }
   ],
   "source": [
    "maximum_drawdown"
   ]
  },
  {
   "cell_type": "code",
   "execution_count": 349,
   "metadata": {},
   "outputs": [
    {
     "data": {
      "image/png": "[encoded data removed]",
      "text/plain": [
       "<Figure size 640x480 with 1 Axes>"
      ]
     },
     "metadata": {},
     "output_type": "display_data"
    }
   ],
   "source": [
    "plt.plot(bonus['Date'],bonus['New_Capital'], label=\"RELIANCE\", color='blue')\n",
    "plt.ylabel('Capital')\n",
    "plt.title('Capital Over Time')\n",
    "plt.show()"
   ]
  },
  {
   "cell_type": "code",
   "execution_count": 350,
   "metadata": {},
   "outputs": [
    {
     "data": {
      "text/html": [
       "<div>\n",
       "<style scoped>\n",
       "    .dataframe tbody tr th:only-of-type {\n",
       "        vertical-align: middle;\n",
       "    }\n",
       "\n",
       "    .dataframe tbody tr th {\n",
       "        vertical-align: top;\n",
       "    }\n",
       "\n",
       "    .dataframe thead th {\n",
       "        text-align: right;\n",
       "    }\n",
       "</style>\n",
       "<table border=\"1\" class=\"dataframe\">\n",
       "  <thead>\n",
       "    <tr style=\"text-align: right;\">\n",
       "      <th></th>\n",
       "      <th>Date</th>\n",
       "      <th>Open</th>\n",
       "      <th>High</th>\n",
       "      <th>Low</th>\n",
       "      <th>Close</th>\n",
       "      <th>Adj Close</th>\n",
       "      <th>Volume</th>\n",
       "      <th>New_Capital</th>\n",
       "      <th>Daily_Returns</th>\n",
       "    </tr>\n",
       "  </thead>\n",
       "  <tbody>\n",
       "    <tr>\n",
       "      <th>0</th>\n",
       "      <td>2023-04-03</td>\n",
       "      <td>2164.434326</td>\n",
       "      <td>2168.126221</td>\n",
       "      <td>2136.744141</td>\n",
       "      <td>2151.927490</td>\n",
       "      <td>2144.352783</td>\n",
       "      <td>5146521</td>\n",
       "      <td>99424.685547</td>\n",
       "      <td>-0.577834</td>\n",
       "    </tr>\n",
       "    <tr>\n",
       "      <th>1</th>\n",
       "      <td>2023-04-05</td>\n",
       "      <td>2167.203125</td>\n",
       "      <td>2167.203125</td>\n",
       "      <td>2130.791016</td>\n",
       "      <td>2146.758789</td>\n",
       "      <td>2139.202148</td>\n",
       "      <td>8131464</td>\n",
       "      <td>98504.690430</td>\n",
       "      <td>-0.943351</td>\n",
       "    </tr>\n",
       "    <tr>\n",
       "      <th>2</th>\n",
       "      <td>2023-04-06</td>\n",
       "      <td>2139.651611</td>\n",
       "      <td>2172.741211</td>\n",
       "      <td>2139.651611</td>\n",
       "      <td>2161.157471</td>\n",
       "      <td>2153.550049</td>\n",
       "      <td>9217523</td>\n",
       "      <td>99493.959961</td>\n",
       "      <td>1.005110</td>\n",
       "    </tr>\n",
       "    <tr>\n",
       "      <th>3</th>\n",
       "      <td>2023-04-10</td>\n",
       "      <td>2169.049316</td>\n",
       "      <td>2169.418457</td>\n",
       "      <td>2142.789795</td>\n",
       "      <td>2145.835693</td>\n",
       "      <td>2138.282227</td>\n",
       "      <td>6480704</td>\n",
       "      <td>98449.346924</td>\n",
       "      <td>-1.070221</td>\n",
       "    </tr>\n",
       "    <tr>\n",
       "      <th>4</th>\n",
       "      <td>2023-04-11</td>\n",
       "      <td>2154.281250</td>\n",
       "      <td>2160.742188</td>\n",
       "      <td>2145.097412</td>\n",
       "      <td>2156.450195</td>\n",
       "      <td>2148.859375</td>\n",
       "      <td>5271183</td>\n",
       "      <td>98546.949463</td>\n",
       "      <td>0.100681</td>\n",
       "    </tr>\n",
       "    <tr>\n",
       "      <th>...</th>\n",
       "      <td>...</td>\n",
       "      <td>...</td>\n",
       "      <td>...</td>\n",
       "      <td>...</td>\n",
       "      <td>...</td>\n",
       "      <td>...</td>\n",
       "      <td>...</td>\n",
       "      <td>...</td>\n",
       "      <td>...</td>\n",
       "    </tr>\n",
       "    <tr>\n",
       "      <th>238</th>\n",
       "      <td>2024-03-21</td>\n",
       "      <td>2905.050049</td>\n",
       "      <td>2915.800049</td>\n",
       "      <td>2889.350098</td>\n",
       "      <td>2901.949951</td>\n",
       "      <td>2901.949951</td>\n",
       "      <td>6503468</td>\n",
       "      <td>97567.617432</td>\n",
       "      <td>-0.106714</td>\n",
       "    </tr>\n",
       "    <tr>\n",
       "      <th>239</th>\n",
       "      <td>2024-03-22</td>\n",
       "      <td>2899.949951</td>\n",
       "      <td>2920.000000</td>\n",
       "      <td>2894.699951</td>\n",
       "      <td>2910.050049</td>\n",
       "      <td>2910.050049</td>\n",
       "      <td>9763804</td>\n",
       "      <td>97900.920654</td>\n",
       "      <td>0.348285</td>\n",
       "    </tr>\n",
       "    <tr>\n",
       "      <th>240</th>\n",
       "      <td>2024-03-26</td>\n",
       "      <td>2890.000000</td>\n",
       "      <td>2904.800049</td>\n",
       "      <td>2878.000000</td>\n",
       "      <td>2883.149902</td>\n",
       "      <td>2883.149902</td>\n",
       "      <td>5707953</td>\n",
       "      <td>97674.867432</td>\n",
       "      <td>-0.237028</td>\n",
       "    </tr>\n",
       "    <tr>\n",
       "      <th>241</th>\n",
       "      <td>2024-03-27</td>\n",
       "      <td>2896.000000</td>\n",
       "      <td>3000.000000</td>\n",
       "      <td>2894.000000</td>\n",
       "      <td>2985.699951</td>\n",
       "      <td>2985.699951</td>\n",
       "      <td>8163322</td>\n",
       "      <td>100634.965820</td>\n",
       "      <td>3.097374</td>\n",
       "    </tr>\n",
       "    <tr>\n",
       "      <th>242</th>\n",
       "      <td>2024-03-28</td>\n",
       "      <td>2985.750000</td>\n",
       "      <td>3011.899902</td>\n",
       "      <td>2957.300049</td>\n",
       "      <td>2971.699951</td>\n",
       "      <td>2971.699951</td>\n",
       "      <td>10927182</td>\n",
       "      <td>100171.314209</td>\n",
       "      <td>-0.470570</td>\n",
       "    </tr>\n",
       "  </tbody>\n",
       "</table>\n",
       "<p>243 rows × 9 columns</p>\n",
       "</div>"
      ],
      "text/plain": [
       "           Date         Open         High          Low        Close  \\\n",
       "0    2023-04-03  2164.434326  2168.126221  2136.744141  2151.927490   \n",
       "1    2023-04-05  2167.203125  2167.203125  2130.791016  2146.758789   \n",
       "2    2023-04-06  2139.651611  2172.741211  2139.651611  2161.157471   \n",
       "3    2023-04-10  2169.049316  2169.418457  2142.789795  2145.835693   \n",
       "4    2023-04-11  2154.281250  2160.742188  2145.097412  2156.450195   \n",
       "..          ...          ...          ...          ...          ...   \n",
       "238  2024-03-21  2905.050049  2915.800049  2889.350098  2901.949951   \n",
       "239  2024-03-22  2899.949951  2920.000000  2894.699951  2910.050049   \n",
       "240  2024-03-26  2890.000000  2904.800049  2878.000000  2883.149902   \n",
       "241  2024-03-27  2896.000000  3000.000000  2894.000000  2985.699951   \n",
       "242  2024-03-28  2985.750000  3011.899902  2957.300049  2971.699951   \n",
       "\n",
       "       Adj Close    Volume    New_Capital  Daily_Returns  \n",
       "0    2144.352783   5146521   99424.685547      -0.577834  \n",
       "1    2139.202148   8131464   98504.690430      -0.943351  \n",
       "2    2153.550049   9217523   99493.959961       1.005110  \n",
       "3    2138.282227   6480704   98449.346924      -1.070221  \n",
       "4    2148.859375   5271183   98546.949463       0.100681  \n",
       "..           ...       ...            ...            ...  \n",
       "238  2901.949951   6503468   97567.617432      -0.106714  \n",
       "239  2910.050049   9763804   97900.920654       0.348285  \n",
       "240  2883.149902   5707953   97674.867432      -0.237028  \n",
       "241  2985.699951   8163322  100634.965820       3.097374  \n",
       "242  2971.699951  10927182  100171.314209      -0.470570  \n",
       "\n",
       "[243 rows x 9 columns]"
      ]
     },
     "execution_count": 350,
     "metadata": {},
     "output_type": "execute_result"
    }
   ],
   "source": [
    "bonus"
   ]
  },
  {
   "cell_type": "code",
   "execution_count": null,
   "metadata": {},
   "outputs": [],
   "source": []
  }
 ],
 "metadata": {
  "kernelspec": {
   "display_name": "Python 3",
   "language": "python",
   "name": "python3"
  },
  "language_info": {
   "codemirror_mode": {
    "name": "ipython",
    "version": 3
   },
   "file_extension": ".py",
   "mimetype": "text/x-python",
   "name": "python",
   "nbconvert_exporter": "python",
   "pygments_lexer": "ipython3",
   "version": "3.11.9"
  }
 },
 "nbformat": 4,
 "nbformat_minor": 2
}
