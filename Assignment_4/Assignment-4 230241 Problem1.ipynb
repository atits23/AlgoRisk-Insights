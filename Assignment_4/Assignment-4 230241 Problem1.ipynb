{
 "cells": [
  {
   "cell_type": "code",
   "execution_count": 203,
   "metadata": {},
   "outputs": [],
   "source": [
    "import numpy as np\n",
    "import pandas as pd\n",
    "import yfinance as yf\n",
    "import warnings\n",
    "warnings.filterwarnings('ignore')"
   ]
  },
  {
   "cell_type": "code",
   "execution_count": 204,
   "metadata": {},
   "outputs": [
    {
     "name": "stderr",
     "output_type": "stream",
     "text": [
      "[*********************100%%**********************]  5 of 5 completed\n",
      "[*********************100%%**********************]  1 of 1 completed\n"
     ]
    }
   ],
   "source": [
    "tickers=['ONGC.NS','TCS.NS','PATANJALI.NS','RELIANCE.NS','SBIN.NS']\n",
    "data=yf.download(tickers,start='2019-01-01',end='2023-01-01')['Close']\n",
    "market=yf.download('^GSPC',start='2019-01-01',end='2023-01-01')['Close']\n",
    "data=data.dropna()\n",
    "market=market.dropna()"
   ]
  },
  {
   "cell_type": "code",
   "execution_count": 205,
   "metadata": {},
   "outputs": [],
   "source": [
    "aligned_data = data.join(market, how='inner', rsuffix='_Market').dropna()"
   ]
  },
  {
   "cell_type": "code",
   "execution_count": 206,
   "metadata": {},
   "outputs": [
    {
     "data": {
      "text/html": [
       "<div>\n",
       "<style scoped>\n",
       "    .dataframe tbody tr th:only-of-type {\n",
       "        vertical-align: middle;\n",
       "    }\n",
       "\n",
       "    .dataframe tbody tr th {\n",
       "        vertical-align: top;\n",
       "    }\n",
       "\n",
       "    .dataframe thead th {\n",
       "        text-align: right;\n",
       "    }\n",
       "</style>\n",
       "<table border=\"1\" class=\"dataframe\">\n",
       "  <thead>\n",
       "    <tr style=\"text-align: right;\">\n",
       "      <th>Ticker</th>\n",
       "      <th>ONGC.NS</th>\n",
       "      <th>PATANJALI.NS</th>\n",
       "      <th>RELIANCE.NS</th>\n",
       "      <th>SBIN.NS</th>\n",
       "      <th>TCS.NS</th>\n",
       "    </tr>\n",
       "    <tr>\n",
       "      <th>Date</th>\n",
       "      <th></th>\n",
       "      <th></th>\n",
       "      <th></th>\n",
       "      <th></th>\n",
       "      <th></th>\n",
       "    </tr>\n",
       "  </thead>\n",
       "  <tbody>\n",
       "    <tr>\n",
       "      <th>2019-01-01</th>\n",
       "      <td>148.500000</td>\n",
       "      <td>855.000000</td>\n",
       "      <td>1024.966919</td>\n",
       "      <td>299.600006</td>\n",
       "      <td>1902.800049</td>\n",
       "    </tr>\n",
       "    <tr>\n",
       "      <th>2019-01-02</th>\n",
       "      <td>147.050003</td>\n",
       "      <td>815.000000</td>\n",
       "      <td>1011.617737</td>\n",
       "      <td>293.899994</td>\n",
       "      <td>1923.300049</td>\n",
       "    </tr>\n",
       "    <tr>\n",
       "      <th>2019-01-03</th>\n",
       "      <td>142.399994</td>\n",
       "      <td>775.000000</td>\n",
       "      <td>999.137085</td>\n",
       "      <td>291.100006</td>\n",
       "      <td>1899.949951</td>\n",
       "    </tr>\n",
       "    <tr>\n",
       "      <th>2019-01-04</th>\n",
       "      <td>145.699997</td>\n",
       "      <td>810.000000</td>\n",
       "      <td>1004.531616</td>\n",
       "      <td>297.649994</td>\n",
       "      <td>1876.849976</td>\n",
       "    </tr>\n",
       "    <tr>\n",
       "      <th>2019-01-07</th>\n",
       "      <td>147.850006</td>\n",
       "      <td>850.000000</td>\n",
       "      <td>1010.109070</td>\n",
       "      <td>296.299988</td>\n",
       "      <td>1897.900024</td>\n",
       "    </tr>\n",
       "    <tr>\n",
       "      <th>...</th>\n",
       "      <td>...</td>\n",
       "      <td>...</td>\n",
       "      <td>...</td>\n",
       "      <td>...</td>\n",
       "      <td>...</td>\n",
       "    </tr>\n",
       "    <tr>\n",
       "      <th>2022-12-26</th>\n",
       "      <td>141.300003</td>\n",
       "      <td>1145.199951</td>\n",
       "      <td>2329.697266</td>\n",
       "      <td>597.099976</td>\n",
       "      <td>3252.899902</td>\n",
       "    </tr>\n",
       "    <tr>\n",
       "      <th>2022-12-27</th>\n",
       "      <td>144.800003</td>\n",
       "      <td>1151.250000</td>\n",
       "      <td>2348.757324</td>\n",
       "      <td>601.900024</td>\n",
       "      <td>3259.500000</td>\n",
       "    </tr>\n",
       "    <tr>\n",
       "      <th>2022-12-28</th>\n",
       "      <td>143.899994</td>\n",
       "      <td>1160.949951</td>\n",
       "      <td>2348.526611</td>\n",
       "      <td>601.049988</td>\n",
       "      <td>3257.100098</td>\n",
       "    </tr>\n",
       "    <tr>\n",
       "      <th>2022-12-29</th>\n",
       "      <td>144.649994</td>\n",
       "      <td>1167.199951</td>\n",
       "      <td>2347.465088</td>\n",
       "      <td>611.799988</td>\n",
       "      <td>3268.750000</td>\n",
       "    </tr>\n",
       "    <tr>\n",
       "      <th>2022-12-30</th>\n",
       "      <td>146.750000</td>\n",
       "      <td>1193.400024</td>\n",
       "      <td>2351.064697</td>\n",
       "      <td>613.700012</td>\n",
       "      <td>3256.699951</td>\n",
       "    </tr>\n",
       "  </tbody>\n",
       "</table>\n",
       "<p>990 rows × 5 columns</p>\n",
       "</div>"
      ],
      "text/plain": [
       "Ticker         ONGC.NS  PATANJALI.NS  RELIANCE.NS     SBIN.NS       TCS.NS\n",
       "Date                                                                      \n",
       "2019-01-01  148.500000    855.000000  1024.966919  299.600006  1902.800049\n",
       "2019-01-02  147.050003    815.000000  1011.617737  293.899994  1923.300049\n",
       "2019-01-03  142.399994    775.000000   999.137085  291.100006  1899.949951\n",
       "2019-01-04  145.699997    810.000000  1004.531616  297.649994  1876.849976\n",
       "2019-01-07  147.850006    850.000000  1010.109070  296.299988  1897.900024\n",
       "...                ...           ...          ...         ...          ...\n",
       "2022-12-26  141.300003   1145.199951  2329.697266  597.099976  3252.899902\n",
       "2022-12-27  144.800003   1151.250000  2348.757324  601.900024  3259.500000\n",
       "2022-12-28  143.899994   1160.949951  2348.526611  601.049988  3257.100098\n",
       "2022-12-29  144.649994   1167.199951  2347.465088  611.799988  3268.750000\n",
       "2022-12-30  146.750000   1193.400024  2351.064697  613.700012  3256.699951\n",
       "\n",
       "[990 rows x 5 columns]"
      ]
     },
     "execution_count": 206,
     "metadata": {},
     "output_type": "execute_result"
    }
   ],
   "source": [
    "data"
   ]
  },
  {
   "cell_type": "code",
   "execution_count": 207,
   "metadata": {},
   "outputs": [
    {
     "data": {
      "text/html": [
       "<div>\n",
       "<style scoped>\n",
       "    .dataframe tbody tr th:only-of-type {\n",
       "        vertical-align: middle;\n",
       "    }\n",
       "\n",
       "    .dataframe tbody tr th {\n",
       "        vertical-align: top;\n",
       "    }\n",
       "\n",
       "    .dataframe thead th {\n",
       "        text-align: right;\n",
       "    }\n",
       "</style>\n",
       "<table border=\"1\" class=\"dataframe\">\n",
       "  <thead>\n",
       "    <tr style=\"text-align: right;\">\n",
       "      <th></th>\n",
       "      <th>ONGC.NS</th>\n",
       "      <th>PATANJALI.NS</th>\n",
       "      <th>RELIANCE.NS</th>\n",
       "      <th>SBIN.NS</th>\n",
       "      <th>TCS.NS</th>\n",
       "      <th>Close</th>\n",
       "    </tr>\n",
       "    <tr>\n",
       "      <th>Date</th>\n",
       "      <th></th>\n",
       "      <th></th>\n",
       "      <th></th>\n",
       "      <th></th>\n",
       "      <th></th>\n",
       "      <th></th>\n",
       "    </tr>\n",
       "  </thead>\n",
       "  <tbody>\n",
       "    <tr>\n",
       "      <th>2019-01-02</th>\n",
       "      <td>147.050003</td>\n",
       "      <td>815.000000</td>\n",
       "      <td>1011.617737</td>\n",
       "      <td>293.899994</td>\n",
       "      <td>1923.300049</td>\n",
       "      <td>2510.030029</td>\n",
       "    </tr>\n",
       "    <tr>\n",
       "      <th>2019-01-03</th>\n",
       "      <td>142.399994</td>\n",
       "      <td>775.000000</td>\n",
       "      <td>999.137085</td>\n",
       "      <td>291.100006</td>\n",
       "      <td>1899.949951</td>\n",
       "      <td>2447.889893</td>\n",
       "    </tr>\n",
       "    <tr>\n",
       "      <th>2019-01-04</th>\n",
       "      <td>145.699997</td>\n",
       "      <td>810.000000</td>\n",
       "      <td>1004.531616</td>\n",
       "      <td>297.649994</td>\n",
       "      <td>1876.849976</td>\n",
       "      <td>2531.939941</td>\n",
       "    </tr>\n",
       "    <tr>\n",
       "      <th>2019-01-07</th>\n",
       "      <td>147.850006</td>\n",
       "      <td>850.000000</td>\n",
       "      <td>1010.109070</td>\n",
       "      <td>296.299988</td>\n",
       "      <td>1897.900024</td>\n",
       "      <td>2549.689941</td>\n",
       "    </tr>\n",
       "    <tr>\n",
       "      <th>2019-01-08</th>\n",
       "      <td>147.449997</td>\n",
       "      <td>815.000000</td>\n",
       "      <td>1010.017639</td>\n",
       "      <td>305.299988</td>\n",
       "      <td>1893.550049</td>\n",
       "      <td>2574.409912</td>\n",
       "    </tr>\n",
       "    <tr>\n",
       "      <th>...</th>\n",
       "      <td>...</td>\n",
       "      <td>...</td>\n",
       "      <td>...</td>\n",
       "      <td>...</td>\n",
       "      <td>...</td>\n",
       "      <td>...</td>\n",
       "    </tr>\n",
       "    <tr>\n",
       "      <th>2022-12-23</th>\n",
       "      <td>139.800003</td>\n",
       "      <td>1101.150024</td>\n",
       "      <td>2309.529785</td>\n",
       "      <td>574.000000</td>\n",
       "      <td>3228.350098</td>\n",
       "      <td>3844.820068</td>\n",
       "    </tr>\n",
       "    <tr>\n",
       "      <th>2022-12-27</th>\n",
       "      <td>144.800003</td>\n",
       "      <td>1151.250000</td>\n",
       "      <td>2348.757324</td>\n",
       "      <td>601.900024</td>\n",
       "      <td>3259.500000</td>\n",
       "      <td>3829.250000</td>\n",
       "    </tr>\n",
       "    <tr>\n",
       "      <th>2022-12-28</th>\n",
       "      <td>143.899994</td>\n",
       "      <td>1160.949951</td>\n",
       "      <td>2348.526611</td>\n",
       "      <td>601.049988</td>\n",
       "      <td>3257.100098</td>\n",
       "      <td>3783.219971</td>\n",
       "    </tr>\n",
       "    <tr>\n",
       "      <th>2022-12-29</th>\n",
       "      <td>144.649994</td>\n",
       "      <td>1167.199951</td>\n",
       "      <td>2347.465088</td>\n",
       "      <td>611.799988</td>\n",
       "      <td>3268.750000</td>\n",
       "      <td>3849.280029</td>\n",
       "    </tr>\n",
       "    <tr>\n",
       "      <th>2022-12-30</th>\n",
       "      <td>146.750000</td>\n",
       "      <td>1193.400024</td>\n",
       "      <td>2351.064697</td>\n",
       "      <td>613.700012</td>\n",
       "      <td>3256.699951</td>\n",
       "      <td>3839.500000</td>\n",
       "    </tr>\n",
       "  </tbody>\n",
       "</table>\n",
       "<p>960 rows × 6 columns</p>\n",
       "</div>"
      ],
      "text/plain": [
       "               ONGC.NS  PATANJALI.NS  RELIANCE.NS     SBIN.NS       TCS.NS  \\\n",
       "Date                                                                         \n",
       "2019-01-02  147.050003    815.000000  1011.617737  293.899994  1923.300049   \n",
       "2019-01-03  142.399994    775.000000   999.137085  291.100006  1899.949951   \n",
       "2019-01-04  145.699997    810.000000  1004.531616  297.649994  1876.849976   \n",
       "2019-01-07  147.850006    850.000000  1010.109070  296.299988  1897.900024   \n",
       "2019-01-08  147.449997    815.000000  1010.017639  305.299988  1893.550049   \n",
       "...                ...           ...          ...         ...          ...   \n",
       "2022-12-23  139.800003   1101.150024  2309.529785  574.000000  3228.350098   \n",
       "2022-12-27  144.800003   1151.250000  2348.757324  601.900024  3259.500000   \n",
       "2022-12-28  143.899994   1160.949951  2348.526611  601.049988  3257.100098   \n",
       "2022-12-29  144.649994   1167.199951  2347.465088  611.799988  3268.750000   \n",
       "2022-12-30  146.750000   1193.400024  2351.064697  613.700012  3256.699951   \n",
       "\n",
       "                  Close  \n",
       "Date                     \n",
       "2019-01-02  2510.030029  \n",
       "2019-01-03  2447.889893  \n",
       "2019-01-04  2531.939941  \n",
       "2019-01-07  2549.689941  \n",
       "2019-01-08  2574.409912  \n",
       "...                 ...  \n",
       "2022-12-23  3844.820068  \n",
       "2022-12-27  3829.250000  \n",
       "2022-12-28  3783.219971  \n",
       "2022-12-29  3849.280029  \n",
       "2022-12-30  3839.500000  \n",
       "\n",
       "[960 rows x 6 columns]"
      ]
     },
     "execution_count": 207,
     "metadata": {},
     "output_type": "execute_result"
    }
   ],
   "source": [
    "aligned_data"
   ]
  },
  {
   "cell_type": "code",
   "execution_count": 208,
   "metadata": {},
   "outputs": [],
   "source": [
    "stocks_return=aligned_data.pct_change()"
   ]
  },
  {
   "cell_type": "code",
   "execution_count": 209,
   "metadata": {},
   "outputs": [],
   "source": [
    "market_return=stocks_return['Close'].mean()*252"
   ]
  },
  {
   "cell_type": "code",
   "execution_count": 210,
   "metadata": {},
   "outputs": [],
   "source": [
    "market_cap={\n",
    "    'ONGC.NS':yf.Ticker('ONGC.NS').info['marketCap'],\n",
    "    'TCS.NS':yf.Ticker('TCS.NS').info['marketCap'],\n",
    "    'PATANJALI.NS':yf.Ticker('PATANJALI.NS').info['marketCap'],\n",
    "    'RELIANCE.NS':yf.Ticker('RELIANCE.NS').info['marketCap'],\n",
    "    'SBIN.NS':yf.Ticker('SBIN.NS').info['marketCap']\n",
    "   }\n"
   ]
  },
  {
   "cell_type": "code",
   "execution_count": 211,
   "metadata": {},
   "outputs": [],
   "source": [
    "total_market_cap=sum(market_cap.values())"
   ]
  },
  {
   "cell_type": "code",
   "execution_count": 212,
   "metadata": {},
   "outputs": [],
   "source": [
    "key=list(market_cap.values())"
   ]
  },
  {
   "cell_type": "code",
   "execution_count": 213,
   "metadata": {},
   "outputs": [],
   "source": [
    "weights={\n",
    "    'weights':[key[0]/total_market_cap,key[1]/total_market_cap,key[2]/total_market_cap,key[3]/total_market_cap,key[4]/total_market_cap]\n",
    "}\n"
   ]
  },
  {
   "cell_type": "code",
   "execution_count": 214,
   "metadata": {},
   "outputs": [],
   "source": [
    "weights=pd.DataFrame(weights)\n",
    "weights.index=tickers"
   ]
  },
  {
   "cell_type": "code",
   "execution_count": 215,
   "metadata": {},
   "outputs": [
    {
     "data": {
      "text/html": [
       "<div>\n",
       "<style scoped>\n",
       "    .dataframe tbody tr th:only-of-type {\n",
       "        vertical-align: middle;\n",
       "    }\n",
       "\n",
       "    .dataframe tbody tr th {\n",
       "        vertical-align: top;\n",
       "    }\n",
       "\n",
       "    .dataframe thead th {\n",
       "        text-align: right;\n",
       "    }\n",
       "</style>\n",
       "<table border=\"1\" class=\"dataframe\">\n",
       "  <thead>\n",
       "    <tr style=\"text-align: right;\">\n",
       "      <th></th>\n",
       "      <th>weights</th>\n",
       "    </tr>\n",
       "  </thead>\n",
       "  <tbody>\n",
       "    <tr>\n",
       "      <th>ONGC.NS</th>\n",
       "      <td>0.076396</td>\n",
       "    </tr>\n",
       "    <tr>\n",
       "      <th>TCS.NS</th>\n",
       "      <td>0.305721</td>\n",
       "    </tr>\n",
       "    <tr>\n",
       "      <th>PATANJALI.NS</th>\n",
       "      <td>0.011842</td>\n",
       "    </tr>\n",
       "    <tr>\n",
       "      <th>RELIANCE.NS</th>\n",
       "      <td>0.440894</td>\n",
       "    </tr>\n",
       "    <tr>\n",
       "      <th>SBIN.NS</th>\n",
       "      <td>0.165147</td>\n",
       "    </tr>\n",
       "  </tbody>\n",
       "</table>\n",
       "</div>"
      ],
      "text/plain": [
       "               weights\n",
       "ONGC.NS       0.076396\n",
       "TCS.NS        0.305721\n",
       "PATANJALI.NS  0.011842\n",
       "RELIANCE.NS   0.440894\n",
       "SBIN.NS       0.165147"
      ]
     },
     "execution_count": 215,
     "metadata": {},
     "output_type": "execute_result"
    }
   ],
   "source": [
    "weights"
   ]
  },
  {
   "cell_type": "code",
   "execution_count": 216,
   "metadata": {},
   "outputs": [],
   "source": [
    "def Beta(data,marke_return):\n",
    "    numerator=np.cov(data,marke_return)\n",
    "    numerator=numerator[0][1]\n",
    "    denominator=np.var(marke_return)\n",
    "    beta=numerator/denominator\n",
    "    return beta"
   ]
  },
  {
   "cell_type": "code",
   "execution_count": 217,
   "metadata": {},
   "outputs": [],
   "source": [
    "beta={\n",
    "    'Beta':[Beta(aligned_data['ONGC.NS'],aligned_data['Close']),Beta(aligned_data['TCS.NS'],aligned_data['Close']),Beta(aligned_data['PATANJALI.NS'],aligned_data['Close']),Beta(aligned_data['RELIANCE.NS'],aligned_data['Close']),Beta(aligned_data['SBIN.NS'],aligned_data['Close'])]\n",
    "    }\n",
    "beta=pd.DataFrame(beta)\n",
    "beta.index=tickers"
   ]
  },
  {
   "cell_type": "code",
   "execution_count": 218,
   "metadata": {},
   "outputs": [
    {
     "data": {
      "text/html": [
       "<div>\n",
       "<style scoped>\n",
       "    .dataframe tbody tr th:only-of-type {\n",
       "        vertical-align: middle;\n",
       "    }\n",
       "\n",
       "    .dataframe tbody tr th {\n",
       "        vertical-align: top;\n",
       "    }\n",
       "\n",
       "    .dataframe thead th {\n",
       "        text-align: right;\n",
       "    }\n",
       "</style>\n",
       "<table border=\"1\" class=\"dataframe\">\n",
       "  <thead>\n",
       "    <tr style=\"text-align: right;\">\n",
       "      <th></th>\n",
       "      <th>Beta</th>\n",
       "    </tr>\n",
       "  </thead>\n",
       "  <tbody>\n",
       "    <tr>\n",
       "      <th>ONGC.NS</th>\n",
       "      <td>0.013023</td>\n",
       "    </tr>\n",
       "    <tr>\n",
       "      <th>TCS.NS</th>\n",
       "      <td>0.986418</td>\n",
       "    </tr>\n",
       "    <tr>\n",
       "      <th>PATANJALI.NS</th>\n",
       "      <td>0.314124</td>\n",
       "    </tr>\n",
       "    <tr>\n",
       "      <th>RELIANCE.NS</th>\n",
       "      <td>0.648868</td>\n",
       "    </tr>\n",
       "    <tr>\n",
       "      <th>SBIN.NS</th>\n",
       "      <td>0.139180</td>\n",
       "    </tr>\n",
       "  </tbody>\n",
       "</table>\n",
       "</div>"
      ],
      "text/plain": [
       "                  Beta\n",
       "ONGC.NS       0.013023\n",
       "TCS.NS        0.986418\n",
       "PATANJALI.NS  0.314124\n",
       "RELIANCE.NS   0.648868\n",
       "SBIN.NS       0.139180"
      ]
     },
     "execution_count": 218,
     "metadata": {},
     "output_type": "execute_result"
    }
   ],
   "source": [
    "beta"
   ]
  },
  {
   "cell_type": "code",
   "execution_count": 219,
   "metadata": {},
   "outputs": [],
   "source": [
    "weighted_beta_stocks={\n",
    "    'weights':[beta['Beta'].iloc[0]*weights['weights'].iloc[0],beta['Beta'].iloc[1]*weights['weights'].iloc[1],beta['Beta'].iloc[2]*weights['weights'].iloc[2],beta['Beta'].iloc[3]*weights['weights'].iloc[3],beta['Beta'].iloc[4]*weights['weights'].iloc[4]]\n",
    "}\n",
    "weighted_beta_stocks=pd.DataFrame(weighted_beta_stocks)\n",
    "weighted_beta_stocks.index=tickers"
   ]
  },
  {
   "cell_type": "code",
   "execution_count": 220,
   "metadata": {},
   "outputs": [
    {
     "data": {
      "text/html": [
       "<div>\n",
       "<style scoped>\n",
       "    .dataframe tbody tr th:only-of-type {\n",
       "        vertical-align: middle;\n",
       "    }\n",
       "\n",
       "    .dataframe tbody tr th {\n",
       "        vertical-align: top;\n",
       "    }\n",
       "\n",
       "    .dataframe thead th {\n",
       "        text-align: right;\n",
       "    }\n",
       "</style>\n",
       "<table border=\"1\" class=\"dataframe\">\n",
       "  <thead>\n",
       "    <tr style=\"text-align: right;\">\n",
       "      <th></th>\n",
       "      <th>weights</th>\n",
       "    </tr>\n",
       "  </thead>\n",
       "  <tbody>\n",
       "    <tr>\n",
       "      <th>ONGC.NS</th>\n",
       "      <td>0.000995</td>\n",
       "    </tr>\n",
       "    <tr>\n",
       "      <th>TCS.NS</th>\n",
       "      <td>0.301569</td>\n",
       "    </tr>\n",
       "    <tr>\n",
       "      <th>PATANJALI.NS</th>\n",
       "      <td>0.003720</td>\n",
       "    </tr>\n",
       "    <tr>\n",
       "      <th>RELIANCE.NS</th>\n",
       "      <td>0.286082</td>\n",
       "    </tr>\n",
       "    <tr>\n",
       "      <th>SBIN.NS</th>\n",
       "      <td>0.022985</td>\n",
       "    </tr>\n",
       "  </tbody>\n",
       "</table>\n",
       "</div>"
      ],
      "text/plain": [
       "               weights\n",
       "ONGC.NS       0.000995\n",
       "TCS.NS        0.301569\n",
       "PATANJALI.NS  0.003720\n",
       "RELIANCE.NS   0.286082\n",
       "SBIN.NS       0.022985"
      ]
     },
     "execution_count": 220,
     "metadata": {},
     "output_type": "execute_result"
    }
   ],
   "source": [
    "weighted_beta_stocks"
   ]
  },
  {
   "cell_type": "code",
   "execution_count": 221,
   "metadata": {},
   "outputs": [],
   "source": [
    "def expected_return(beta,market_return,risk_free_rate=0.02):\n",
    "    return risk_free_rate+beta*(market_return-risk_free_rate)\n"
   ]
  },
  {
   "cell_type": "code",
   "execution_count": 222,
   "metadata": {},
   "outputs": [],
   "source": [
    "returns=[]\n",
    "for i in range(len(beta)):\n",
    "    returns.append(expected_return(beta['Beta'].iloc[i],market_return))"
   ]
  },
  {
   "cell_type": "code",
   "execution_count": 223,
   "metadata": {},
   "outputs": [],
   "source": [
    "risk_free_rate=0.02\n",
    "df={\n",
    "    'Stock Return':returns\n",
    "}\n",
    "df=pd.DataFrame(df)\n",
    "df.index=tickers"
   ]
  },
  {
   "cell_type": "code",
   "execution_count": 224,
   "metadata": {},
   "outputs": [
    {
     "data": {
      "text/html": [
       "<div>\n",
       "<style scoped>\n",
       "    .dataframe tbody tr th:only-of-type {\n",
       "        vertical-align: middle;\n",
       "    }\n",
       "\n",
       "    .dataframe tbody tr th {\n",
       "        vertical-align: top;\n",
       "    }\n",
       "\n",
       "    .dataframe thead th {\n",
       "        text-align: right;\n",
       "    }\n",
       "</style>\n",
       "<table border=\"1\" class=\"dataframe\">\n",
       "  <thead>\n",
       "    <tr style=\"text-align: right;\">\n",
       "      <th></th>\n",
       "      <th>Stock Return</th>\n",
       "    </tr>\n",
       "  </thead>\n",
       "  <tbody>\n",
       "    <tr>\n",
       "      <th>ONGC.NS</th>\n",
       "      <td>0.021541</td>\n",
       "    </tr>\n",
       "    <tr>\n",
       "      <th>TCS.NS</th>\n",
       "      <td>0.136696</td>\n",
       "    </tr>\n",
       "    <tr>\n",
       "      <th>PATANJALI.NS</th>\n",
       "      <td>0.057162</td>\n",
       "    </tr>\n",
       "    <tr>\n",
       "      <th>RELIANCE.NS</th>\n",
       "      <td>0.096763</td>\n",
       "    </tr>\n",
       "    <tr>\n",
       "      <th>SBIN.NS</th>\n",
       "      <td>0.036465</td>\n",
       "    </tr>\n",
       "  </tbody>\n",
       "</table>\n",
       "</div>"
      ],
      "text/plain": [
       "              Stock Return\n",
       "ONGC.NS           0.021541\n",
       "TCS.NS            0.136696\n",
       "PATANJALI.NS      0.057162\n",
       "RELIANCE.NS       0.096763\n",
       "SBIN.NS           0.036465"
      ]
     },
     "execution_count": 224,
     "metadata": {},
     "output_type": "execute_result"
    }
   ],
   "source": [
    "df"
   ]
  },
  {
   "cell_type": "code",
   "execution_count": 225,
   "metadata": {},
   "outputs": [],
   "source": [
    "portfolio_return=0\n",
    "for i in range(len(beta)):\n",
    "    portfolio_return+=df['Stock Return'].iloc[i]*weights['weights'].iloc[i]"
   ]
  },
  {
   "cell_type": "markdown",
   "metadata": {},
   "source": [
    "Percentage Portfolio Return"
   ]
  },
  {
   "cell_type": "code",
   "execution_count": 226,
   "metadata": {},
   "outputs": [
    {
     "data": {
      "text/plain": [
       "9.279763803337474"
      ]
     },
     "execution_count": 226,
     "metadata": {},
     "output_type": "execute_result"
    }
   ],
   "source": [
    "portfolio_return*100"
   ]
  },
  {
   "cell_type": "code",
   "execution_count": 227,
   "metadata": {},
   "outputs": [],
   "source": []
  },
  {
   "cell_type": "code",
   "execution_count": 228,
   "metadata": {},
   "outputs": [],
   "source": []
  },
  {
   "cell_type": "code",
   "execution_count": 229,
   "metadata": {},
   "outputs": [],
   "source": []
  },
  {
   "cell_type": "code",
   "execution_count": 230,
   "metadata": {},
   "outputs": [
    {
     "ename": "ValueError",
     "evalue": "shapes (6,6) and (5,) not aligned: 6 (dim 1) != 5 (dim 0)",
     "output_type": "error",
     "traceback": [
      "\u001b[1;31m---------------------------------------------------------------------------\u001b[0m",
      "\u001b[1;31mValueError\u001b[0m                                Traceback (most recent call last)",
      "Cell \u001b[1;32mIn[230], line 1\u001b[0m\n\u001b[1;32m----> 1\u001b[0m returns,std_dev\u001b[38;5;241m=\u001b[39m\u001b[43mportfolio_performance\u001b[49m\u001b[43m(\u001b[49m\u001b[43mweights_arr\u001b[49m\u001b[43m,\u001b[49m\u001b[43mexpected_returns_arr\u001b[49m\u001b[43m,\u001b[49m\u001b[43mcov\u001b[49m\u001b[43m)\u001b[49m\n",
      "Cell \u001b[1;32mIn[228], line 3\u001b[0m, in \u001b[0;36mportfolio_performance\u001b[1;34m(weights, mean_returns, cov_matrix)\u001b[0m\n\u001b[0;32m      1\u001b[0m \u001b[38;5;28;01mdef\u001b[39;00m \u001b[38;5;21mportfolio_performance\u001b[39m(weights, mean_returns, cov_matrix):\n\u001b[0;32m      2\u001b[0m     returns \u001b[38;5;241m=\u001b[39m np\u001b[38;5;241m.\u001b[39msum(mean_returns \u001b[38;5;241m*\u001b[39m weights) \u001b[38;5;241m*\u001b[39m \u001b[38;5;241m252\u001b[39m\n\u001b[1;32m----> 3\u001b[0m     std_dev \u001b[38;5;241m=\u001b[39m np\u001b[38;5;241m.\u001b[39msqrt(np\u001b[38;5;241m.\u001b[39mdot(weights\u001b[38;5;241m.\u001b[39mT, \u001b[43mnp\u001b[49m\u001b[38;5;241;43m.\u001b[39;49m\u001b[43mdot\u001b[49m\u001b[43m(\u001b[49m\u001b[43mcov_matrix\u001b[49m\u001b[43m,\u001b[49m\u001b[43m \u001b[49m\u001b[43mweights\u001b[49m\u001b[43m)\u001b[49m)) \u001b[38;5;241m*\u001b[39m np\u001b[38;5;241m.\u001b[39msqrt(\u001b[38;5;241m252\u001b[39m)\n\u001b[0;32m      4\u001b[0m     \u001b[38;5;28;01mreturn\u001b[39;00m returns, std_dev\n",
      "\u001b[1;31mValueError\u001b[0m: shapes (6,6) and (5,) not aligned: 6 (dim 1) != 5 (dim 0)"
     ]
    }
   ],
   "source": []
  },
  {
   "cell_type": "code",
   "execution_count": null,
   "metadata": {},
   "outputs": [
    {
     "data": {
      "text/plain": [
       "array([0.02154063, 0.1366958 , 0.05716164, 0.09676284, 0.03646531])"
      ]
     },
     "execution_count": 142,
     "metadata": {},
     "output_type": "execute_result"
    }
   ],
   "source": []
  },
  {
   "cell_type": "code",
   "execution_count": null,
   "metadata": {},
   "outputs": [],
   "source": []
  }
 ],
 "metadata": {
  "kernelspec": {
   "display_name": "Python 3",
   "language": "python",
   "name": "python3"
  },
  "language_info": {
   "codemirror_mode": {
    "name": "ipython",
    "version": 3
   },
   "file_extension": ".py",
   "mimetype": "text/x-python",
   "name": "python",
   "nbconvert_exporter": "python",
   "pygments_lexer": "ipython3",
   "version": "3.11.9"
  }
 },
 "nbformat": 4,
 "nbformat_minor": 2
}
