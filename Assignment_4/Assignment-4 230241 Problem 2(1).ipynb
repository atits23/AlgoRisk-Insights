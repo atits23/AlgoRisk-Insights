{
 "cells": [
  {
   "cell_type": "code",
   "execution_count": 283,
   "metadata": {},
   "outputs": [],
   "source": [
    "import numpy as np\n",
    "import pandas as pd\n",
    "import yfinance as yf\n",
    "import warnings\n",
    "import datetime\n",
    "warnings.filterwarnings('ignore')"
   ]
  },
  {
   "cell_type": "code",
   "execution_count": 284,
   "metadata": {},
   "outputs": [
    {
     "name": "stderr",
     "output_type": "stream",
     "text": [
      "[*********************100%%**********************]  1 of 1 completed\n"
     ]
    }
   ],
   "source": [
    "data=yf.download('TSLA',start='2023-01-01',end='2024-01-01')\n",
    "data.to_csv('_data1_.csv')\n",
    "data=pd.read_csv('_data1_.csv')"
   ]
  },
  {
   "cell_type": "code",
   "execution_count": 285,
   "metadata": {},
   "outputs": [],
   "source": [
    "data['Heikin Close']=(data['Open']+data['Close']+data['Low'] + data['High'])/4\n",
    "data['Heikin Open']=(data['Open'].shift(1)+data['Close'].shift(1))/2\n",
    "data['H-High']=data[['High','Heikin Open','Heikin Close']].max(axis=1)\n",
    "data['L-Low']=data[['Low','Heikin Open','Heikin Close']].min(axis=1)"
   ]
  },
  {
   "cell_type": "code",
   "execution_count": 286,
   "metadata": {},
   "outputs": [],
   "source": [
    "def MACD(data):\n",
    "    data['MACD']=data['Heikin Close'].ewm(span=12,adjust=False).mean()-data['Heikin Close'].ewm(span=26,adjust=False).mean()\n",
    "    data['Signal']=data['MACD'].ewm(span=9,adjust=False).mean()\n",
    "    return data"
   ]
  },
  {
   "cell_type": "code",
   "execution_count": 287,
   "metadata": {},
   "outputs": [],
   "source": [
    "data=MACD(data)"
   ]
  },
  {
   "cell_type": "code",
   "execution_count": 288,
   "metadata": {},
   "outputs": [],
   "source": [
    "S1_Signal=[0]\n",
    "for i in range(1,len(data)):\n",
    "    if data['MACD'].iloc[i]>data['Signal'].iloc[i] and data['MACD'].iloc[i-1]<data['Signal'].iloc[i-1]:\n",
    "        S1_Signal.append(1)\n",
    "    elif data['MACD'].iloc[i]<data['Signal'].iloc[i] and data['MACD'].iloc[i-1]>data['Signal'].iloc[i-1]:\n",
    "        S1_Signal.append(-1)\n",
    "    else:\n",
    "        S1_Signal.append(0) "
   ]
  },
  {
   "cell_type": "code",
   "execution_count": 289,
   "metadata": {},
   "outputs": [],
   "source": [
    "data['S1_Signal']=pd.DataFrame(S1_Signal)"
   ]
  },
  {
   "cell_type": "code",
   "execution_count": 290,
   "metadata": {},
   "outputs": [],
   "source": [
    "capital=10000\n",
    "portfolio_value=[]\n",
    "quantity=[]\n",
    "entry=[]\n",
    "exit=[]\n",
    "new_signal=[]\n",
    "signal=[]\n",
    "trade_type=[]\n",
    "current_trade_peak=0"
   ]
  },
  {
   "cell_type": "markdown",
   "metadata": {},
   "source": [
    "Without stop loss and take profit"
   ]
  },
  {
   "cell_type": "code",
   "execution_count": 291,
   "metadata": {},
   "outputs": [],
   "source": [
    "\n",
    "def Backtesting(data,cap):\n",
    "    capital=cap\n",
    "    portfolio_value=[]\n",
    "    quantity=[]\n",
    "    current_position=0\n",
    "    holding=0\n",
    "    current_portfolio_value=0\n",
    "    entry=[]\n",
    "    exit=[]\n",
    "    new_signal=[]\n",
    "    signal=list(data['S1_Signal'])\n",
    "    trade_type=[]\n",
    "    for i in range(len(data)-1):\n",
    "      if capital<0:\n",
    "         print('Capital vanished')\n",
    "      if current_position==0:\n",
    "         if signal[i]==0:\n",
    "            current_position=0\n",
    "            new_signal.append(0)\n",
    "            holding=0\n",
    "            portfolio_value.append(capital)\n",
    "            quantity.append(0)\n",
    "         elif signal[i]==1:\n",
    "            current_position=1\n",
    "            holding=capital/data['Close'].iloc[i]\n",
    "            capital=0\n",
    "            new_signal.append(1)\n",
    "            quantity.append(holding)\n",
    "            current_portfolio_value=holding*data['Close'].iloc[i]\n",
    "            portfolio_value.append(current_portfolio_value)\n",
    "            entry.append(i)\n",
    "            trade_type.append('Long')\n",
    "            current_trade_peak=current_portfolio_value\n",
    "            # current_stop_loss=(1-stop_loss_percent)*current_trade_peak\n",
    "            # current_take_profit=(1+take_profit_percent)*current_trade_peak\n",
    "\n",
    "         elif signal[i]==-1:\n",
    "            current_position=-1\n",
    "            holding=capital/data['Close'].iloc[i]\n",
    "            capital=2*capital\n",
    "            new_signal.append(-1)\n",
    "            quantity.append(holding)\n",
    "            current_portfolio_value=capital-holding*data['Close'].iloc[i]\n",
    "            portfolio_value.append(current_portfolio_value)\n",
    "            entry.append(i)\n",
    "            trade_type.append('Short')\n",
    "            current_trade_peak=current_portfolio_value\n",
    "            # current_stop_loss=(1+stop_loss_percent)*current_trade_peak\n",
    "            # current_take_profit=(1-take_profit_percent)*current_trade_peak\n",
    "\n",
    "      elif current_position==1:\n",
    "         if signal[i]==0 or signal[i]==1:\n",
    "            temp=holding*data['Close'].iloc[i]\n",
    "            # if temp<current_stop_loss:\n",
    "            #    stop_loss_count.append(i)\n",
    "            #    current_position=0\n",
    "            #    quantity.append(0)\n",
    "            #    capital=holding*data['Close'].iloc[i]\n",
    "            #    current_portfolio_value=capital\n",
    "            #    portfolio_value.append(current_portfolio_value)\n",
    "            #    new_signal.append(-1)\n",
    "            #    exit.append(i)\n",
    "            # elif temp>=current_take_profit:\n",
    "            #    take_profit_count.append(i)\n",
    "            #    current_position=0\n",
    "            #    quantity.append(0)\n",
    "            #    capital=holding*data['Close'].iloc[i]\n",
    "            #    current_portfolio_value=capital\n",
    "            #    portfolio_value.append(current_portfolio_value)\n",
    "            #    new_signal.append(-1)\n",
    "            #    exit.append(i)\n",
    "            # elif holding*data['Close'].iloc[i]>current_trade_peak:\n",
    "            #    current_trade_peak=holding*data['Close'].iloc[i]\n",
    "            #    current_stop_loss=(1-stop_loss_percent)*current_trade_peak\n",
    "            #    current_position=1\n",
    "            #    quantity.append(holding)\n",
    "            #    current_portfolio_value=holding*data['Close'].iloc[i]\n",
    "            #    portfolio_value.append(current_portfolio_value)\n",
    "            #    new_signal.append(0)\n",
    "            current_position=1\n",
    "            quantity.append(holding)\n",
    "            current_portfolio_value=holding*data['Close'].iloc[i]\n",
    "            portfolio_value.append(current_portfolio_value)\n",
    "            new_signal.append(0)   \n",
    "         else:\n",
    "            current_position=0\n",
    "            quantity.append(0)\n",
    "            capital=holding*data['Close'].iloc[i]\n",
    "            current_portfolio_value=capital\n",
    "            portfolio_value.append(current_portfolio_value)\n",
    "            new_signal.append(-1)\n",
    "            exit.append(i)\n",
    "\n",
    "      elif current_position==-1:\n",
    "        if signal[i]==0 or signal[i]==-1:\n",
    "         temp=capital-holding*data['Close'].iloc[i]\n",
    "         #   if temp>current_stop_loss:\n",
    "         #        stop_loss_count.append(i)\n",
    "         #        current_position=0\n",
    "         #        quantity.append(0)\n",
    "         #        capital=capital-holding*data['Close'].iloc[i]\n",
    "         #        current_portfolio_value=capital\n",
    "         #        portfolio_value.append(current_portfolio_value)\n",
    "         #        new_signal.append(1)\n",
    "         #        exit.append(i)\n",
    "         #   elif temp<=current_take_profit:\n",
    "         #        take_profit_count.append(i)\n",
    "         #        current_position=0\n",
    "         #        quantity.append(0)\n",
    "         #        capital=capital-holding*data['Close'].iloc[i]\n",
    "         #        current_portfolio_value=capital\n",
    "         #        portfolio_value.append(current_portfolio_value)\n",
    "         #        new_signal.append(1)\n",
    "         #        exit.append(i)\n",
    "         #   elif (capital-holding*data['Close'].iloc[i])<current_trade_peak:\n",
    "         #        current_trade_peak=capital-holding*data['Close'].iloc[i]\n",
    "         #        current_stop_loss=(1+stop_loss_percent)*current_trade_peak\n",
    "         #        current_position=-1\n",
    "         #        quantity.append(holding)\n",
    "         #        current_portfolio_value=capital-holding*data['Close'].iloc[i]\n",
    "         #        portfolio_value.append(current_portfolio_value)\n",
    "         #        new_signal.append(0)\n",
    "         current_position=-1\n",
    "         quantity.append(holding)\n",
    "         current_portfolio_value=capital-holding*data['Close'].iloc[i]\n",
    "         portfolio_value.append(current_portfolio_value)\n",
    "         new_signal.append(0)\n",
    "                    \n",
    "        else:\n",
    "           current_position=0\n",
    "           capital=capital-holding*data['Close'].iloc[i]\n",
    "           quantity.append(0)\n",
    "           current_portfolio_value=capital\n",
    "           portfolio_value.append(current_portfolio_value)\n",
    "           new_signal.append(1)\n",
    "           exit.append(i)    \n",
    "\n",
    "    if current_position==1:\n",
    "            current_position=0\n",
    "            quantity.append(0)\n",
    "            capital=holding*data['Close'].iloc[i]\n",
    "            current_portfolio_value=capital\n",
    "            portfolio_value.append(current_portfolio_value)\n",
    "            new_signal.append(-1)\n",
    "            exit.append(i)\n",
    "    elif current_position==-1:\n",
    "           current_position=0\n",
    "           capital=capital-holding*data['Close'].iloc[i]\n",
    "           quantity.append(0)\n",
    "           current_portfolio_value=capital\n",
    "           portfolio_value.append(current_portfolio_value)\n",
    "           new_signal.append(1)\n",
    "           exit.append(i)\n",
    "    else:\n",
    "            current_position=0\n",
    "            new_signal.append(0)\n",
    "            holding=0\n",
    "            portfolio_value.append(capital)\n",
    "            quantity.append(0)\n",
    "          \n",
    "\n",
    "    return capital,portfolio_value,quantity,entry,exit,new_signal,trade_type\n",
    "\n",
    "capital,portfolio_value,quantity,entry,exit,new_signal,trade_type=Backtesting(data,capital)            "
   ]
  },
  {
   "cell_type": "code",
   "execution_count": 292,
   "metadata": {},
   "outputs": [],
   "source": [
    "data['Portfolio']=portfolio_value"
   ]
  },
  {
   "cell_type": "code",
   "execution_count": 293,
   "metadata": {},
   "outputs": [],
   "source": [
    "def MaxDrawDown(df):\n",
    "    \n",
    "    max_peak_till_now = df.cummax()\n",
    "    drawdown = (df- max_peak_till_now)/max_peak_till_now\n",
    "    return drawdown.min()"
   ]
  },
  {
   "cell_type": "code",
   "execution_count": 294,
   "metadata": {},
   "outputs": [
    {
     "data": {
      "text/plain": [
       "-16.89887533355526"
      ]
     },
     "execution_count": 294,
     "metadata": {},
     "output_type": "execute_result"
    }
   ],
   "source": [
    "MaxDrawDown(data['Portfolio'])*100"
   ]
  },
  {
   "cell_type": "code",
   "execution_count": 295,
   "metadata": {},
   "outputs": [
    {
     "data": {
      "text/plain": [
       "146.7976108601023"
      ]
     },
     "execution_count": 295,
     "metadata": {},
     "output_type": "execute_result"
    }
   ],
   "source": [
    "(capital-10000)/100"
   ]
  },
  {
   "cell_type": "markdown",
   "metadata": {},
   "source": [
    "With stop loss and take profit"
   ]
  },
  {
   "cell_type": "code",
   "execution_count": 296,
   "metadata": {},
   "outputs": [],
   "source": [
    "capital1=10000\n",
    "portfolio_value1=[]\n",
    "quantity1=[]\n",
    "entry1=[]\n",
    "exit1=[]\n",
    "new_signal1=[]\n",
    "signal1=[]\n",
    "trade_type1=[]\n",
    "current_trade_peak1=0\n",
    "stop_loss_count1=[]\n",
    "take_profit_count1=[]"
   ]
  },
  {
   "cell_type": "code",
   "execution_count": 297,
   "metadata": {},
   "outputs": [],
   "source": [
    "\n",
    "def Backtesting1(data,cap,stop_p=0.0675,take_p=0.4):\n",
    "    capital=cap\n",
    "    portfolio_value=[]\n",
    "    quantity=[]\n",
    "    current_position=0\n",
    "    holding=0\n",
    "    current_portfolio_value=0\n",
    "    current_stop_loss=0\n",
    "    current_take_profit=0\n",
    "    stop_loss_percent=stop_p\n",
    "    take_profit_percent=take_p\n",
    "    entry=[]\n",
    "    exit=[]\n",
    "    new_signal=[]\n",
    "    signal=list(data['S1_Signal'])\n",
    "    trade_type=[]\n",
    "    current_trade_peak=0\n",
    "    stop_loss_count=[]\n",
    "    take_profit_count=[]\n",
    "    for i in range(len(data)-1):\n",
    "      if capital<0:\n",
    "         print('Capital vanished')\n",
    "      if current_position==0:\n",
    "         if signal[i]==0:\n",
    "            current_position=0\n",
    "            new_signal.append(0)\n",
    "            holding=0\n",
    "            portfolio_value.append(capital)\n",
    "            quantity.append(0)\n",
    "         elif signal[i]==1:\n",
    "            current_position=1\n",
    "            holding=capital/data['Close'].iloc[i]\n",
    "            capital=0\n",
    "            new_signal.append(1)\n",
    "            quantity.append(holding)\n",
    "            current_portfolio_value=holding*data['Close'].iloc[i]\n",
    "            portfolio_value.append(current_portfolio_value)\n",
    "            entry.append(i)\n",
    "            trade_type.append('Long')\n",
    "            current_trade_peak=current_portfolio_value\n",
    "            current_stop_loss=(1-stop_loss_percent)*current_trade_peak\n",
    "            current_take_profit=(1+take_profit_percent)*current_trade_peak\n",
    "\n",
    "         elif signal[i]==-1:\n",
    "            current_position=-1\n",
    "            holding=capital/data['Close'].iloc[i]\n",
    "            capital=2*capital\n",
    "            new_signal.append(-1)\n",
    "            quantity.append(holding)\n",
    "            current_portfolio_value=capital-holding*data['Close'].iloc[i]\n",
    "            portfolio_value.append(current_portfolio_value)\n",
    "            entry.append(i)\n",
    "            trade_type.append('Short')\n",
    "            current_trade_peak=current_portfolio_value\n",
    "            current_stop_loss=(1+stop_loss_percent)*current_trade_peak\n",
    "            current_take_profit=(1-take_profit_percent)*current_trade_peak\n",
    "\n",
    "      elif current_position==1:\n",
    "         if signal[i]==0 or signal[i]==1:\n",
    "            temp=holding*data['Close'].iloc[i]\n",
    "            if temp<current_stop_loss:\n",
    "               stop_loss_count.append(i)\n",
    "               current_position=0\n",
    "               quantity.append(0)\n",
    "               capital=holding*data['Close'].iloc[i]\n",
    "               current_portfolio_value=capital\n",
    "               portfolio_value.append(current_portfolio_value)\n",
    "               new_signal.append(-1)\n",
    "               exit.append(i)\n",
    "            elif temp>=current_take_profit:\n",
    "               take_profit_count.append(i)\n",
    "               current_position=0\n",
    "               quantity.append(0)\n",
    "               capital=holding*data['Close'].iloc[i]\n",
    "               current_portfolio_value=capital\n",
    "               portfolio_value.append(current_portfolio_value)\n",
    "               new_signal.append(-1)\n",
    "               exit.append(i)\n",
    "            # elif holding*data['Close'].iloc[i]>current_trade_peak:\n",
    "            #    current_trade_peak=holding*data['Close'].iloc[i]\n",
    "            #    current_stop_loss=(1-stop_loss_percent)*current_trade_peak\n",
    "            #    current_position=1\n",
    "            #    quantity.append(holding)\n",
    "            #    current_portfolio_value=holding*data['Close'].iloc[i]\n",
    "            #    portfolio_value.append(current_portfolio_value)\n",
    "            #    new_signal.append(0)\n",
    "            else:\n",
    "               current_position=1\n",
    "               quantity.append(holding)\n",
    "               current_portfolio_value=holding*data['Close'].iloc[i]\n",
    "               portfolio_value.append(current_portfolio_value)\n",
    "               new_signal.append(0)   \n",
    "         else:\n",
    "            current_position=0\n",
    "            quantity.append(0)\n",
    "            capital=holding*data['Close'].iloc[i]\n",
    "            current_portfolio_value=capital\n",
    "            portfolio_value.append(current_portfolio_value)\n",
    "            new_signal.append(-1)\n",
    "            exit.append(i)\n",
    "\n",
    "      elif current_position==-1:\n",
    "        if signal[i]==0 or signal[i]==-1:\n",
    "           temp=capital-holding*data['Close'].iloc[i]\n",
    "           if temp>current_stop_loss:\n",
    "                stop_loss_count.append(i)\n",
    "                current_position=0\n",
    "                quantity.append(0)\n",
    "                capital=capital-holding*data['Close'].iloc[i]\n",
    "                current_portfolio_value=capital\n",
    "                portfolio_value.append(current_portfolio_value)\n",
    "                new_signal.append(1)\n",
    "                exit.append(i)\n",
    "           elif temp<=current_take_profit:\n",
    "                take_profit_count.append(i)\n",
    "                current_position=0\n",
    "                quantity.append(0)\n",
    "                capital=capital-holding*data['Close'].iloc[i]\n",
    "                current_portfolio_value=capital\n",
    "                portfolio_value.append(current_portfolio_value)\n",
    "                new_signal.append(1)\n",
    "                exit.append(i)\n",
    "         #   elif (capital-holding*data['Close'].iloc[i])<current_trade_peak:\n",
    "         #        current_trade_peak=capital-holding*data['Close'].iloc[i]\n",
    "         #        current_stop_loss=(1+stop_loss_percent)*current_trade_peak\n",
    "         #        current_position=-1\n",
    "         #        quantity.append(holding)\n",
    "         #        current_portfolio_value=capital-holding*data['Close'].iloc[i]\n",
    "         #        portfolio_value.append(current_portfolio_value)\n",
    "         #        new_signal.append(0)\n",
    "           else:\n",
    "                current_position=-1\n",
    "                quantity.append(holding)\n",
    "                current_portfolio_value=capital-holding*data['Close'].iloc[i]\n",
    "                portfolio_value.append(current_portfolio_value)\n",
    "                new_signal.append(0)\n",
    "                    \n",
    "        else:\n",
    "           current_position=0\n",
    "           capital=capital-holding*data['Close'].iloc[i]\n",
    "           quantity.append(0)\n",
    "           current_portfolio_value=capital\n",
    "           portfolio_value.append(current_portfolio_value)\n",
    "           new_signal.append(1)\n",
    "           exit.append(i)    \n",
    "\n",
    "    if current_position==1:\n",
    "            current_position=0\n",
    "            quantity.append(0)\n",
    "            capital=holding*data['Close'].iloc[i]\n",
    "            current_portfolio_value=capital\n",
    "            portfolio_value.append(current_portfolio_value)\n",
    "            new_signal.append(-1)\n",
    "            exit.append(i)\n",
    "    elif current_position==-1:\n",
    "           current_position=0\n",
    "           capital=capital-holding*data['Close'].iloc[i]\n",
    "           quantity.append(0)\n",
    "           current_portfolio_value=capital\n",
    "           portfolio_value.append(current_portfolio_value)\n",
    "           new_signal.append(1)\n",
    "           exit.append(i)\n",
    "    else:\n",
    "            current_position=0\n",
    "            new_signal.append(0)\n",
    "            holding=0\n",
    "            portfolio_value.append(capital)\n",
    "            quantity.append(0)\n",
    "          \n",
    "\n",
    "    return capital,portfolio_value,quantity,entry,exit,new_signal,trade_type,stop_loss_count,take_profit_count\n",
    "\n",
    "capital1,portfolio_value1,quantity1,entry1,exit1,new_signal1,trade_type1,stop_loss_count1,take_profit_count1=Backtesting1(data,capital1)            "
   ]
  },
  {
   "cell_type": "code",
   "execution_count": 298,
   "metadata": {},
   "outputs": [],
   "source": [
    "data['Portfolio1']=portfolio_value1"
   ]
  },
  {
   "cell_type": "code",
   "execution_count": 299,
   "metadata": {},
   "outputs": [],
   "source": [
    "def MaxDrawDown1(df):\n",
    "    \n",
    "    max_peak_till_now = df.cummax()\n",
    "    drawdown = (df- max_peak_till_now)/max_peak_till_now\n",
    "    return drawdown.min()\n"
   ]
  },
  {
   "cell_type": "code",
   "execution_count": 300,
   "metadata": {},
   "outputs": [
    {
     "data": {
      "text/plain": [
       "-20.59922002550662"
      ]
     },
     "execution_count": 300,
     "metadata": {},
     "output_type": "execute_result"
    }
   ],
   "source": [
    "MaxDrawDown1(data['Portfolio1'])*100"
   ]
  },
  {
   "cell_type": "code",
   "execution_count": 301,
   "metadata": {},
   "outputs": [
    {
     "data": {
      "text/plain": [
       "123.15877116096705"
      ]
     },
     "execution_count": 301,
     "metadata": {},
     "output_type": "execute_result"
    }
   ],
   "source": [
    "(capital1-10000)/100"
   ]
  },
  {
   "cell_type": "markdown",
   "metadata": {},
   "source": [
    "Only trailing stop loss"
   ]
  },
  {
   "cell_type": "code",
   "execution_count": 302,
   "metadata": {},
   "outputs": [],
   "source": [
    "capital2=10000\n",
    "portfolio_value2=[]\n",
    "quantity2=[]\n",
    "entry2=[]\n",
    "exit2=[]\n",
    "new_signal2=[]\n",
    "signal2=[]\n",
    "trade_type2=[]\n",
    "current_trade_peak2=0\n",
    "stop_loss_count2=[]"
   ]
  },
  {
   "cell_type": "code",
   "execution_count": 303,
   "metadata": {},
   "outputs": [],
   "source": [
    "\n",
    "def Backtesting2(data,cap,stop_p=0.0675):\n",
    "    capital=cap\n",
    "    portfolio_value=[]\n",
    "    quantity=[]\n",
    "    current_position=0\n",
    "    holding=0\n",
    "    current_portfolio_value=0\n",
    "    current_stop_loss=0\n",
    "    stop_loss_percent=stop_p\n",
    "    entry=[]\n",
    "    exit=[]\n",
    "    new_signal=[]\n",
    "    signal=list(data['S1_Signal'])\n",
    "    trade_type=[]\n",
    "    current_trade_peak=0\n",
    "    stop_loss_count=[]\n",
    "    take_profit_count=[]\n",
    "    for i in range(len(data)-1):\n",
    "      if capital<0:\n",
    "         print('Capital vanished')\n",
    "      if current_position==0:\n",
    "         if signal[i]==0:\n",
    "            current_position=0\n",
    "            new_signal.append(0)\n",
    "            holding=0\n",
    "            portfolio_value.append(capital)\n",
    "            quantity.append(0)\n",
    "         elif signal[i]==1:\n",
    "            current_position=1\n",
    "            holding=capital/data['Close'].iloc[i]\n",
    "            capital=0\n",
    "            new_signal.append(1)\n",
    "            quantity.append(holding)\n",
    "            current_portfolio_value=holding*data['Close'].iloc[i]\n",
    "            portfolio_value.append(current_portfolio_value)\n",
    "            entry.append(i)\n",
    "            trade_type.append('Long')\n",
    "            current_trade_peak=current_portfolio_value\n",
    "            current_stop_loss=(1-stop_loss_percent)*current_trade_peak\n",
    "\n",
    "         elif signal[i]==-1:\n",
    "            current_position=-1\n",
    "            holding=capital/data['Close'].iloc[i]\n",
    "            capital=2*capital\n",
    "            new_signal.append(-1)\n",
    "            quantity.append(holding)\n",
    "            current_portfolio_value=capital-holding*data['Close'].iloc[i]\n",
    "            portfolio_value.append(current_portfolio_value)\n",
    "            entry.append(i)\n",
    "            trade_type.append('Short')\n",
    "            current_trade_peak=current_portfolio_value\n",
    "            current_stop_loss=(1+stop_loss_percent)*current_trade_peak\n",
    "\n",
    "      elif current_position==1:\n",
    "         if signal[i]==0 or signal[i]==1:\n",
    "            temp=holding*data['Close'].iloc[i]\n",
    "            if temp<current_stop_loss:\n",
    "               stop_loss_count.append(i)\n",
    "               current_position=0\n",
    "               quantity.append(0)\n",
    "               capital=holding*data['Close'].iloc[i]\n",
    "               current_portfolio_value=capital\n",
    "               portfolio_value.append(current_portfolio_value)\n",
    "               new_signal.append(-1)\n",
    "               exit.append(i)\n",
    "            elif holding*data['Close'].iloc[i]>current_trade_peak:\n",
    "               current_trade_peak=holding*data['Close'].iloc[i]\n",
    "               current_stop_loss=(1-stop_loss_percent)*current_trade_peak\n",
    "               current_position=1\n",
    "               quantity.append(holding)\n",
    "               current_portfolio_value=holding*data['Close'].iloc[i]\n",
    "               portfolio_value.append(current_portfolio_value)\n",
    "               new_signal.append(0)\n",
    "            else:\n",
    "               current_position=1\n",
    "               quantity.append(holding)\n",
    "               current_portfolio_value=holding*data['Close'].iloc[i]\n",
    "               portfolio_value.append(current_portfolio_value)\n",
    "               new_signal.append(0)   \n",
    "         else:\n",
    "            current_position=0\n",
    "            quantity.append(0)\n",
    "            capital=holding*data['Close'].iloc[i]\n",
    "            current_portfolio_value=capital\n",
    "            portfolio_value.append(current_portfolio_value)\n",
    "            new_signal.append(-1)\n",
    "            exit.append(i)\n",
    "\n",
    "      elif current_position==-1:\n",
    "        if signal[i]==0 or signal[i]==-1:\n",
    "           temp=capital-holding*data['Close'].iloc[i]\n",
    "           if temp>current_stop_loss:\n",
    "                stop_loss_count.append(i)\n",
    "                current_position=0\n",
    "                quantity.append(0)\n",
    "                capital=capital-holding*data['Close'].iloc[i]\n",
    "                current_portfolio_value=capital\n",
    "                portfolio_value.append(current_portfolio_value)\n",
    "                new_signal.append(1)\n",
    "                exit.append(i)\n",
    "          \n",
    "           elif (capital-holding*data['Close'].iloc[i])<current_trade_peak:\n",
    "                current_trade_peak=capital-holding*data['Close'].iloc[i]\n",
    "                current_stop_loss=(1+stop_loss_percent)*current_trade_peak\n",
    "                current_position=-1\n",
    "                quantity.append(holding)\n",
    "                current_portfolio_value=capital-holding*data['Close'].iloc[i]\n",
    "                portfolio_value.append(current_portfolio_value)\n",
    "                new_signal.append(0)\n",
    "           else:\n",
    "                current_position=-1\n",
    "                quantity.append(holding)\n",
    "                current_portfolio_value=capital-holding*data['Close'].iloc[i]\n",
    "                portfolio_value.append(current_portfolio_value)\n",
    "                new_signal.append(0)\n",
    "                    \n",
    "        else:\n",
    "           current_position=0\n",
    "           capital=capital-holding*data['Close'].iloc[i]\n",
    "           quantity.append(0)\n",
    "           current_portfolio_value=capital\n",
    "           portfolio_value.append(current_portfolio_value)\n",
    "           new_signal.append(1)\n",
    "           exit.append(i)    \n",
    "\n",
    "    if current_position==1:\n",
    "            current_position=0\n",
    "            quantity.append(0)\n",
    "            capital=holding*data['Close'].iloc[i]\n",
    "            current_portfolio_value=capital\n",
    "            portfolio_value.append(current_portfolio_value)\n",
    "            new_signal.append(-1)\n",
    "            exit.append(i)\n",
    "    elif current_position==-1:\n",
    "           current_position=0\n",
    "           capital=capital-holding*data['Close'].iloc[i]\n",
    "           quantity.append(0)\n",
    "           current_portfolio_value=capital\n",
    "           portfolio_value.append(current_portfolio_value)\n",
    "           new_signal.append(1)\n",
    "           exit.append(i)\n",
    "    else:\n",
    "            current_position=0\n",
    "            new_signal.append(0)\n",
    "            holding=0\n",
    "            portfolio_value.append(capital)\n",
    "            quantity.append(0)\n",
    "          \n",
    "\n",
    "    return capital,portfolio_value,quantity,entry,exit,new_signal,trade_type,stop_loss_count\n",
    "\n",
    "capital2,portfolio_value2,quantity2,entry2,exit2,new_signal2,trade_type2,stop_loss_count2=Backtesting2(data,capital2)            "
   ]
  },
  {
   "cell_type": "code",
   "execution_count": 304,
   "metadata": {},
   "outputs": [],
   "source": [
    "data['Portfolio2']=portfolio_value2"
   ]
  },
  {
   "cell_type": "code",
   "execution_count": 305,
   "metadata": {},
   "outputs": [],
   "source": [
    "def MaxDrawDown2(df):\n",
    "    \n",
    "    max_peak_till_now = df.cummax()\n",
    "    drawdown = (df- max_peak_till_now)/max_peak_till_now\n",
    "    return drawdown.min()"
   ]
  },
  {
   "cell_type": "code",
   "execution_count": 306,
   "metadata": {},
   "outputs": [
    {
     "data": {
      "text/plain": [
       "-13.526785577656094"
      ]
     },
     "execution_count": 306,
     "metadata": {},
     "output_type": "execute_result"
    }
   ],
   "source": [
    "MaxDrawDown2(data['Portfolio2'])*100"
   ]
  },
  {
   "cell_type": "code",
   "execution_count": 307,
   "metadata": {},
   "outputs": [
    {
     "data": {
      "text/plain": [
       "226.2165118081145"
      ]
     },
     "execution_count": 307,
     "metadata": {},
     "output_type": "execute_result"
    }
   ],
   "source": [
    "(capital2-10000)/100"
   ]
  },
  {
   "cell_type": "code",
   "execution_count": null,
   "metadata": {},
   "outputs": [],
   "source": []
  }
 ],
 "metadata": {
  "kernelspec": {
   "display_name": "Python 3",
   "language": "python",
   "name": "python3"
  },
  "language_info": {
   "codemirror_mode": {
    "name": "ipython",
    "version": 3
   },
   "file_extension": ".py",
   "mimetype": "text/x-python",
   "name": "python",
   "nbconvert_exporter": "python",
   "pygments_lexer": "ipython3",
   "version": "3.11.9"
  }
 },
 "nbformat": 4,
 "nbformat_minor": 2
}
